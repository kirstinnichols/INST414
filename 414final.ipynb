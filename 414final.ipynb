{
 "cells": [
  {
   "cell_type": "markdown",
   "id": "40c5cae3-f12d-46ad-a5a4-891169af43f4",
   "metadata": {},
   "source": [
    "In this analysis, we will determine if there is a correlation between income level and a diagnosis of diabetes.\n",
    "\n",
    "We will be using the Diabetes Health Indicators Dataset from Kaggle, last updated two years ago.\n",
    "\n",
    "In this dataset, 0 is for no diabetes or only during pregnancy, 1 is for prediabetes, and 2 is for diabetes. This dataset has a class imbalance. "
   ]
  },
  {
   "cell_type": "code",
   "execution_count": 1,
   "id": "979d9037-e060-473e-818d-f256905bd433",
   "metadata": {
    "scrolled": true
   },
   "outputs": [],
   "source": [
    "\n",
    "import numpy as np\n",
    "from datascience import *\n",
    "\n",
    "import matplotlib\n",
    "%matplotlib inline\n",
    "import matplotlib.pyplot as plt\n",
    "plt.style.use('fivethirtyeight')\n"
   ]
  },
  {
   "cell_type": "code",
   "execution_count": 2,
   "id": "a2a3a3ce-341b-4ecb-84cd-0460cae88989",
   "metadata": {},
   "outputs": [
    {
     "data": {
      "text/html": [
       "<table border=\"1\" class=\"dataframe\">\n",
       "    <thead>\n",
       "        <tr>\n",
       "            <th>Diabetes_012</th> <th>HighBP</th> <th>HighChol</th> <th>CholCheck</th> <th>BMI</th> <th>Smoker</th> <th>Stroke</th> <th>HeartDiseaseorAttack</th> <th>PhysActivity</th> <th>Fruits</th> <th>Veggies</th> <th>HvyAlcoholConsump</th> <th>AnyHealthcare</th> <th>NoDocbcCost</th> <th>GenHlth</th> <th>MentHlth</th> <th>PhysHlth</th> <th>DiffWalk</th> <th>Sex</th> <th>Age</th> <th>Education</th> <th>Income</th>\n",
       "        </tr>\n",
       "    </thead>\n",
       "    <tbody>\n",
       "        <tr>\n",
       "            <td>0           </td> <td>1     </td> <td>1       </td> <td>1        </td> <td>40  </td> <td>1     </td> <td>0     </td> <td>0                   </td> <td>0           </td> <td>0     </td> <td>1      </td> <td>0                </td> <td>1            </td> <td>0          </td> <td>5      </td> <td>18      </td> <td>15      </td> <td>1       </td> <td>0   </td> <td>9   </td> <td>4        </td> <td>3     </td>\n",
       "        </tr>\n",
       "        <tr>\n",
       "            <td>0           </td> <td>0     </td> <td>0       </td> <td>0        </td> <td>25  </td> <td>1     </td> <td>0     </td> <td>0                   </td> <td>1           </td> <td>0     </td> <td>0      </td> <td>0                </td> <td>0            </td> <td>1          </td> <td>3      </td> <td>0       </td> <td>0       </td> <td>0       </td> <td>0   </td> <td>7   </td> <td>6        </td> <td>1     </td>\n",
       "        </tr>\n",
       "        <tr>\n",
       "            <td>0           </td> <td>1     </td> <td>1       </td> <td>1        </td> <td>28  </td> <td>0     </td> <td>0     </td> <td>0                   </td> <td>0           </td> <td>1     </td> <td>0      </td> <td>0                </td> <td>1            </td> <td>1          </td> <td>5      </td> <td>30      </td> <td>30      </td> <td>1       </td> <td>0   </td> <td>9   </td> <td>4        </td> <td>8     </td>\n",
       "        </tr>\n",
       "        <tr>\n",
       "            <td>0           </td> <td>1     </td> <td>0       </td> <td>1        </td> <td>27  </td> <td>0     </td> <td>0     </td> <td>0                   </td> <td>1           </td> <td>1     </td> <td>1      </td> <td>0                </td> <td>1            </td> <td>0          </td> <td>2      </td> <td>0       </td> <td>0       </td> <td>0       </td> <td>0   </td> <td>11  </td> <td>3        </td> <td>6     </td>\n",
       "        </tr>\n",
       "        <tr>\n",
       "            <td>0           </td> <td>1     </td> <td>1       </td> <td>1        </td> <td>24  </td> <td>0     </td> <td>0     </td> <td>0                   </td> <td>1           </td> <td>1     </td> <td>1      </td> <td>0                </td> <td>1            </td> <td>0          </td> <td>2      </td> <td>3       </td> <td>0       </td> <td>0       </td> <td>0   </td> <td>11  </td> <td>5        </td> <td>4     </td>\n",
       "        </tr>\n",
       "    </tbody>\n",
       "</table>\n",
       "<p>... (253675 rows omitted)</p>"
      ],
      "text/plain": [
       "<IPython.core.display.HTML object>"
      ]
     },
     "metadata": {},
     "output_type": "display_data"
    }
   ],
   "source": [
    "# Import dataset as data\n",
    "data = Table.read_table('diabetes_012_health_indicators_BRFSS2015.csv')\n",
    "\n",
    "# First five rows\n",
    "data.show(5)"
   ]
  },
  {
   "cell_type": "markdown",
   "id": "69376279-129c-4f6c-9e21-4a30902700ff",
   "metadata": {},
   "source": [
    "Let's compare 'Income' with diabetes"
   ]
  },
  {
   "cell_type": "code",
   "execution_count": 3,
   "id": "31c49560-c46c-4afe-89c5-75e98b85a059",
   "metadata": {},
   "outputs": [
    {
     "data": {
      "image/png": "[encoded data removed]",
      "text/plain": [
       "<Figure size 600x400 with 1 Axes>"
      ]
     },
     "metadata": {},
     "output_type": "display_data"
    }
   ],
   "source": [
    "selected = data.select(\"Income\", \"Diabetes_012\")\n",
    "\n",
    "selected_group = selected.group(\"Diabetes_012\", collect = np.median)\n",
    "selected_group.barh(\"Diabetes_012\")\n",
    "\n"
   ]
  },
  {
   "cell_type": "markdown",
   "id": "0cf36b39-5f55-4c3f-9af8-1aa1f510b155",
   "metadata": {},
   "source": [
    "As we can see, there is a higher median income level (7) for those without diabetes or only during pregnancy, and a lower median income (6) for both those who are prediabetic and those who have diabetes."
   ]
  },
  {
   "cell_type": "markdown",
   "id": "d16a87a6-434d-407b-a882-08ae9ff00d90",
   "metadata": {},
   "source": [
    "Next, we'll clean the data. We will change the name of our diabetes variable to be more clear and drop unused variables."
   ]
  },
  {
   "cell_type": "code",
   "execution_count": 4,
   "id": "f2bfde21-4062-43cf-8a67-5ee797ca557b",
   "metadata": {
    "scrolled": true
   },
   "outputs": [
    {
     "data": {
      "text/html": [
       "<table border=\"1\" class=\"dataframe\">\n",
       "    <thead>\n",
       "        <tr>\n",
       "            <th>Income</th> <th>Label Diabetes</th>\n",
       "        </tr>\n",
       "    </thead>\n",
       "    <tbody>\n",
       "        <tr>\n",
       "            <td>3     </td> <td>0             </td>\n",
       "        </tr>\n",
       "        <tr>\n",
       "            <td>1     </td> <td>0             </td>\n",
       "        </tr>\n",
       "        <tr>\n",
       "            <td>8     </td> <td>0             </td>\n",
       "        </tr>\n",
       "        <tr>\n",
       "            <td>6     </td> <td>0             </td>\n",
       "        </tr>\n",
       "        <tr>\n",
       "            <td>4     </td> <td>0             </td>\n",
       "        </tr>\n",
       "        <tr>\n",
       "            <td>8     </td> <td>0             </td>\n",
       "        </tr>\n",
       "        <tr>\n",
       "            <td>7     </td> <td>0             </td>\n",
       "        </tr>\n",
       "        <tr>\n",
       "            <td>4     </td> <td>0             </td>\n",
       "        </tr>\n",
       "        <tr>\n",
       "            <td>1     </td> <td>2             </td>\n",
       "        </tr>\n",
       "        <tr>\n",
       "            <td>3     </td> <td>0             </td>\n",
       "        </tr>\n",
       "    </tbody>\n",
       "</table>\n",
       "<p>... (253670 rows omitted)</p>"
      ],
      "text/plain": [
       "Income | Label Diabetes\n",
       "3      | 0\n",
       "1      | 0\n",
       "8      | 0\n",
       "6      | 0\n",
       "4      | 0\n",
       "8      | 0\n",
       "7      | 0\n",
       "4      | 0\n",
       "1      | 2\n",
       "3      | 0\n",
       "... (253670 rows omitted)"
      ]
     },
     "execution_count": 4,
     "metadata": {},
     "output_type": "execute_result"
    }
   ],
   "source": [
    "# change character variables to dummy variables\n",
    "data_dummy = data.with_columns('Label Diabetes', data.column('Diabetes_012'))\n",
    "\n",
    "\n",
    "# drop old variables + weight \n",
    "data_clean = data_dummy.drop('Diabetes_012','HighBP', 'HighChol', 'CholCheck', 'BMI', 'Smoker', 'Stroke',\n",
    "                            'HeartDiseaseorAttack', 'PhysActivity', 'Fruits', 'Veggies', 'HvyAlcoholConsump',\n",
    "                            'AnyHealthcare', 'NoDocbcCost', 'GenHlth', 'MentHlth', 'PhysHlth', 'DiffWalk', \n",
    "                            'Sex', 'Age', 'Education')\n",
    "\n",
    "data_clean"
   ]
  },
  {
   "cell_type": "code",
   "execution_count": 5,
   "id": "1793f32f-42cf-481e-8b6b-6f3843bcb1e5",
   "metadata": {},
   "outputs": [
    {
     "data": {
      "image/png": "[encoded data removed]",
      "text/plain": [
       "<Figure size 600x400 with 1 Axes>"
      ]
     },
     "metadata": {},
     "output_type": "display_data"
    }
   ],
   "source": [
    "# make histogram\n",
    "data_clean.hist(\"Income\", group = \"Label Diabetes\")"
   ]
  },
  {
   "cell_type": "markdown",
   "id": "8af85038-4ba4-4b3e-8787-ac4336bdecf6",
   "metadata": {},
   "source": [
    "## Hypothesis test\n",
    "\n",
    "We can see that by far, the highest proportion of those without diabetes are those with a high income, whereas prediabetic and diabetic people had more of a spread throughout the income groups. We will now do a hypothesis test to see if there is truly a significant correlation between the two variables.\n",
    "\n",
    "My null hypothesis is that there is no relationship between income and prediabetes/diabetes. My alternative hypothesis is that there is a relationship between income and prediabetes/diabetes."
   ]
  },
  {
   "cell_type": "code",
   "execution_count": 6,
   "id": "a540389f-fe96-49e2-bba1-6cc7cab08156",
   "metadata": {},
   "outputs": [
    {
     "data": {
      "text/html": [
       "<table border=\"1\" class=\"dataframe\">\n",
       "    <thead>\n",
       "        <tr>\n",
       "            <th>Label Diabetes</th> <th>Income mean</th>\n",
       "        </tr>\n",
       "    </thead>\n",
       "    <tbody>\n",
       "        <tr>\n",
       "            <td>0             </td> <td>6.20866    </td>\n",
       "        </tr>\n",
       "        <tr>\n",
       "            <td>1             </td> <td>5.35111    </td>\n",
       "        </tr>\n",
       "        <tr>\n",
       "            <td>2             </td> <td>5.21009    </td>\n",
       "        </tr>\n",
       "    </tbody>\n",
       "</table>"
      ],
      "text/plain": [
       "Label Diabetes | Income mean\n",
       "0              | 6.20866\n",
       "1              | 5.35111\n",
       "2              | 5.21009"
      ]
     },
     "execution_count": 6,
     "metadata": {},
     "output_type": "execute_result"
    }
   ],
   "source": [
    "income_and_diabetes = data_clean.select('Label Diabetes', 'Income')\n",
    "income_and_diabetes.group('Label Diabetes', collect = np.mean)"
   ]
  },
  {
   "cell_type": "code",
   "execution_count": 7,
   "id": "6c69e287-577d-4d53-a220-7dbd3d5fe113",
   "metadata": {},
   "outputs": [
    {
     "data": {
      "text/plain": [
       "-0.8575513545811244"
      ]
     },
     "execution_count": 7,
     "metadata": {},
     "output_type": "execute_result"
    }
   ],
   "source": [
    "diabetes_by_income = income_and_diabetes.group('Label Diabetes', collect = np.mean)\n",
    "diabetes_by_income.column('Income mean').item(1) - diabetes_by_income.column('Income mean').item(0)\n",
    "                                               "
   ]
  },
  {
   "cell_type": "code",
   "execution_count": 8,
   "id": "f2dc625a-db71-4ae7-a8e3-4dc9551281ea",
   "metadata": {},
   "outputs": [
    {
     "data": {
      "text/plain": [
       "-0.8575513545811244"
      ]
     },
     "execution_count": 8,
     "metadata": {},
     "output_type": "execute_result"
    }
   ],
   "source": [
    "def statistic(diabetes_table):\n",
    "    \"\"\"\n",
    "    Arguments:\n",
    "    diabetes_table, Table: a table that looks like the data table\n",
    "    \n",
    "    Returns:\n",
    "    a statistic that compares the means of the two groups\n",
    "    \"\"\"\n",
    "    diabetes_by_income = diabetes_table.group(\"Label Diabetes\", collect = np.mean)\n",
    "    return diabetes_by_income.column(\"Income mean\").item(1) - diabetes_by_income.column(\"Income mean\").item(0)\n",
    "\n",
    "observed_statistic = statistic(income_and_diabetes)\n",
    "observed_statistic"
   ]
  },
  {
   "cell_type": "markdown",
   "id": "09789d72-422e-4e60-86f9-fedfb2ef1e05",
   "metadata": {},
   "source": [
    "Now let's shuffle our income_and_diabetes table and assign the shuffled table to shuffled_income. We will create a new table called simulated_income that contains the original 'Income' variable and also a shuffled 'Label Diabetes' variable\n"
   ]
  },
  {
   "cell_type": "code",
   "execution_count": 9,
   "id": "dd885976-c35a-4734-b61c-67acf3e62b26",
   "metadata": {},
   "outputs": [
    {
     "data": {
      "text/html": [
       "<table border=\"1\" class=\"dataframe\">\n",
       "    <thead>\n",
       "        <tr>\n",
       "            <th>Income</th> <th>Label Diabetes</th>\n",
       "        </tr>\n",
       "    </thead>\n",
       "    <tbody>\n",
       "        <tr>\n",
       "            <td>3     </td> <td>0             </td>\n",
       "        </tr>\n",
       "        <tr>\n",
       "            <td>1     </td> <td>0             </td>\n",
       "        </tr>\n",
       "        <tr>\n",
       "            <td>8     </td> <td>0             </td>\n",
       "        </tr>\n",
       "        <tr>\n",
       "            <td>6     </td> <td>2             </td>\n",
       "        </tr>\n",
       "        <tr>\n",
       "            <td>4     </td> <td>2             </td>\n",
       "        </tr>\n",
       "        <tr>\n",
       "            <td>8     </td> <td>0             </td>\n",
       "        </tr>\n",
       "        <tr>\n",
       "            <td>7     </td> <td>0             </td>\n",
       "        </tr>\n",
       "        <tr>\n",
       "            <td>4     </td> <td>1             </td>\n",
       "        </tr>\n",
       "        <tr>\n",
       "            <td>1     </td> <td>2             </td>\n",
       "        </tr>\n",
       "        <tr>\n",
       "            <td>3     </td> <td>0             </td>\n",
       "        </tr>\n",
       "    </tbody>\n",
       "</table>\n",
       "<p>... (253670 rows omitted)</p>"
      ],
      "text/plain": [
       "Income | Label Diabetes\n",
       "3      | 0\n",
       "1      | 0\n",
       "8      | 0\n",
       "6      | 2\n",
       "4      | 2\n",
       "8      | 0\n",
       "7      | 0\n",
       "4      | 1\n",
       "1      | 2\n",
       "3      | 0\n",
       "... (253670 rows omitted)"
      ]
     },
     "execution_count": 9,
     "metadata": {},
     "output_type": "execute_result"
    }
   ],
   "source": [
    "shuffled_income = income_and_diabetes.sample(income_and_diabetes.num_rows).column('Label Diabetes')\n",
    "simulated_income = Table().with_columns('Income', income_and_diabetes.column('Income'),\n",
    "                                        'Label Diabetes', shuffled_income)\n",
    "\n",
    "simulated_income"
   ]
  },
  {
   "cell_type": "markdown",
   "id": "3c8cabe6-4530-4b1e-8ef3-a6f6bc3ba95e",
   "metadata": {},
   "source": [
    "Let's calculate the statistic of the simulated table."
   ]
  },
  {
   "cell_type": "code",
   "execution_count": 10,
   "id": "48ad516b-3b5d-4220-bda4-feac43fa6654",
   "metadata": {},
   "outputs": [
    {
     "data": {
      "text/plain": [
       "0.020668009666379383"
      ]
     },
     "execution_count": 10,
     "metadata": {},
     "output_type": "execute_result"
    }
   ],
   "source": [
    "statistic(simulated_income)"
   ]
  },
  {
   "cell_type": "markdown",
   "id": "108de266-15e6-4130-8cc8-71b4c5373fa9",
   "metadata": {},
   "source": [
    "Let's test the distribution under the null hypothesis with a function and loop."
   ]
  },
  {
   "cell_type": "code",
   "execution_count": 11,
   "id": "a2e9b749-91bb-4d45-acfc-ccf445b6655c",
   "metadata": {},
   "outputs": [],
   "source": [
    "def simulation_and_statistic():\n",
    "    \"\"\"\n",
    "    Simulates shuffing the income_and_diabetes table and calculating the statistics.\n",
    "    \n",
    "    Returns one statistic.\n",
    "    \"\"\"\n",
    "    shuffled_income = income_and_diabetes.sample(income_and_diabetes.num_rows).column(\"Label Diabetes\")\n",
    "    simulated_income = Table().with_columns(\"Income\", income_and_diabetes.column(\"Income\"),\n",
    "                                        \"Label Diabetes\", shuffled_income)\n",
    "    return statistic(simulated_income)\n",
    "\n",
    "num_repetitions = 100\n",
    "\n",
    "simulated_statistics = make_array()\n",
    "for trial in np.arange(num_repetitions):\n",
    "    simulated_statistics = np.append(simulated_statistics, simulation_and_statistic())"
   ]
  },
  {
   "cell_type": "code",
   "execution_count": 12,
   "id": "9a4097dd-fec6-45ad-877c-29df0d2a81e1",
   "metadata": {},
   "outputs": [
    {
     "data": {
      "image/png": "[encoded data removed]",
      "text/plain": [
       "<Figure size 600x400 with 1 Axes>"
      ]
     },
     "metadata": {},
     "output_type": "display_data"
    }
   ],
   "source": [
    "# visualize with a histogram and a red dot representing observed statistic\n",
    "Table().with_columns(\"Simulated\", simulated_statistics).hist()\n",
    "plt.scatter(observed_statistic, 0, color='red', s=30);"
   ]
  },
  {
   "cell_type": "markdown",
   "id": "8c69866f-80ff-4ab4-b571-bca4786c2670",
   "metadata": {},
   "source": [
    "It looks like our observed statistic is not close to most other data points. Let's calculate the probability that we get the observed statistic if the null hypothesis were true."
   ]
  },
  {
   "cell_type": "code",
   "execution_count": 13,
   "id": "847e7916-9917-43c3-aec3-e97dab432fba",
   "metadata": {},
   "outputs": [
    {
     "data": {
      "text/plain": [
       "0.0"
      ]
     },
     "execution_count": 13,
     "metadata": {},
     "output_type": "execute_result"
    }
   ],
   "source": [
    "np.sum(simulated_statistics <= observed_statistic) / num_repetitions"
   ]
  },
  {
   "cell_type": "markdown",
   "id": "ef8e2111-6ee0-47fc-9e4f-00fc681b6038",
   "metadata": {},
   "source": [
    "## Prediction\n",
    "Now, we will use income and other factors to predict diabetes prevelance."
   ]
  },
  {
   "cell_type": "code",
   "execution_count": 14,
   "id": "ce28c3a9-76d6-4c51-99a7-5f198871acc4",
   "metadata": {},
   "outputs": [],
   "source": [
    "import pandas as pd\n",
    "\n",
    "# create new csv with index called 'ID'\n",
    "\n",
    "# add index\n",
    "data = pd.read_csv('diabetes_012_health_indicators_BRFSS2015.csv')\n",
    "\n",
    "# Reset index to create a new index column\n",
    "data.reset_index(inplace=True)\n",
    "\n",
    "# Rename the index column to 'ID' or any other suitable name\n",
    "data.rename(columns={'index': 'ID'}, inplace=True)\n",
    "\n",
    "# Save the modified DataFrame back to a CSV file\n",
    "data.to_csv(\"with_index.csv\", index=False)"
   ]
  },
  {
   "cell_type": "code",
   "execution_count": 15,
   "id": "5b1c512a-5118-4331-a7ff-9dae9821a6cb",
   "metadata": {},
   "outputs": [
    {
     "name": "stdout",
     "output_type": "stream",
     "text": [
      "{'income': 1.0, 'chol_check': 0.0, 'healthcare': 0.0, 'phys_activity': 1.0, 'fruits': 0.0, 'diabetes_outcome': 0.0}\n"
     ]
    }
   ],
   "source": [
    "\n",
    "\n",
    "data_two = pd.read_csv('with_index.csv')\n",
    "\n",
    "# Initialize dictionaries for mappings\n",
    "person_outcome_map = {}\n",
    "health_factors_map = {}\n",
    "\n",
    "# Iterate through each row in the DataFrame\n",
    "for index, row in data_two.iterrows():\n",
    "    # Extract relevant information from the row\n",
    "    income = row['Income']\n",
    "    diabetes_outcome = row[\"Diabetes_012\"]\n",
    "    chol_check = row['CholCheck']\n",
    "    healthcare = row['AnyHealthcare']\n",
    "    phys_activity = row['PhysActivity']\n",
    "    fruits = row['Fruits']\n",
    "    \n",
    "\n",
    "    # Update person_outcome_map with automatically generated index\n",
    "    person_outcome_map[index] = {\"person\": index, \"diabetes_outcome\": diabetes_outcome}\n",
    "\n",
    "    # Update health_factors_map with automatically generated index\n",
    "    health_factors_map[index] = {\n",
    "        \"income\": income,\n",
    "        \"chol_check\": chol_check,\n",
    "        \"healthcare\": healthcare,\n",
    "        \"phys_activity\": phys_activity,\n",
    "        \"fruits\": fruits,\n",
    "        \"diabetes_outcome\": diabetes_outcome, \n",
    "        \n",
    "    }\n",
    "\n",
    "# Access the mappings:\n",
    "# person_outcome_map contains each person's diabetes outcome with corresponding index\n",
    "# health_factors_map contains each person's health factors and diabetes outcome with corresponding index\n",
    "\n",
    "# Test index of 1\n",
    "print(health_factors_map[1])"
   ]
  },
  {
   "cell_type": "code",
   "execution_count": 95,
   "id": "6024c5d2-89ae-4f39-ae40-d4e6fa9527ce",
   "metadata": {},
   "outputs": [
    {
     "data": {
      "text/plain": [
       "{'income': 3.0,\n",
       " 'chol_check': 1.0,\n",
       " 'healthcare': 1.0,\n",
       " 'phys_activity': 0.0,\n",
       " 'fruits': 0.0,\n",
       " 'diabetes_outcome': 2.0}"
      ]
     },
     "execution_count": 95,
     "metadata": {},
     "output_type": "execute_result"
    }
   ],
   "source": [
    "test_person_id = 34\n",
    "test_person_object = health_factors_map[test_person_id]\n",
    "test_person_object"
   ]
  },
  {
   "cell_type": "markdown",
   "id": "7e19f9a1-7dbf-4f91-a9a8-9973bf238c28",
   "metadata": {},
   "source": [
    "## Euclidean Distance\n",
    "\n",
    "Now we will calculate the Euclidean distance of people based on these health factors. We will create a distance matrix that contains Euclidean distances between all pairs of individuals in this dataset."
   ]
  },
  {
   "cell_type": "code",
   "execution_count": 102,
   "id": "6a5e44ab-f56f-460f-bd75-c7934e732392",
   "metadata": {},
   "outputs": [
    {
     "data": {
      "text/plain": [
       "4.1231056256176606"
      ]
     },
     "execution_count": 102,
     "metadata": {},
     "output_type": "execute_result"
    }
   ],
   "source": [
    "import numpy as np\n",
    "\n",
    "\n",
    "# Function to calculate Euclidean distance between two feature vectors\n",
    "def euclidean_distance(feature_vector1, feature_vector2):\n",
    "    return np.sqrt(np.sum((feature_vector1[:-1] - feature_vector2[:-1]) ** 2))\n",
    "\n",
    "# Select a random sample of 2,500 individuals from your dataset\n",
    "num_people = len(health_factors_map)\n",
    "sample_size = 2500\n",
    "if num_people < sample_size:\n",
    "    raise ValueError(\"Sample size cannot be greater than the number of people in the dataset.\")\n",
    "\n",
    "sample_indices = np.random.choice(range(num_people), size=sample_size, replace=False)\n",
    "\n",
    "# Initialize an empty distance matrix for the sample\n",
    "sample_distance_matrix = np.zeros((sample_size, sample_size))\n",
    "\n",
    "# Calculate Euclidean distance for each pair of individuals in the sample\n",
    "for i, person1_index in enumerate(sample_indices):\n",
    "    for j, person2_index in enumerate(sample_indices):\n",
    "        # Skip comparing the same individual\n",
    "        if i == j:\n",
    "            continue\n",
    "        \n",
    "        # Extract feature vectors for the two individuals\n",
    "        person1_id = person1_index\n",
    "        person2_id = person2_index\n",
    "        if person1_id not in health_factors_map:\n",
    "            test_person_object = health_factors_map[person1_id]\n",
    "            print(test_person_object)\n",
    "            print(f\"Person ID {person1_id} does not exist in the health factors map.\")\n",
    "            continue\n",
    "        if person2_id not in health_factors_map:\n",
    "            test_person_object = health_factors_map[person2_id]\n",
    "            print(test_person_object)\n",
    "            print(f\"Person ID {person2_id} does not exist in the health factors map.\")\n",
    "            continue\n",
    "        \n",
    "        features_person1 = np.array(list(health_factors_map[person1_id].values()))\n",
    "        features_person2 = np.array(list(health_factors_map[person2_id].values()))\n",
    "        \n",
    "        # Calculate Euclidean distance and store in the sample distance matrix\n",
    "        sample_distance_matrix[i, j] = euclidean_distance(features_person1, features_person2)\n",
    "\n",
    "# Now, sample_distance_matrix[i, j] contains the Euclidean distance between person i and person j in the sample\n",
    "\n",
    "sample_distance_matrix[34, 3]\n"
   ]
  },
  {
   "cell_type": "code",
   "execution_count": 103,
   "id": "127a3112-c47d-4416-8734-97742b1846cc",
   "metadata": {},
   "outputs": [],
   "source": [
    "# Find Euclidean distance with test person\n",
    "rows = []\n",
    "sample_person_id = 34\n",
    "# Extract feature vector for the sample person\n",
    "sample_features = np.array(list(health_factors_map[sample_person_id].values()))\n",
    "# Calculate Euclidean distance between the sample person and all other individuals\n",
    "for other_person_id in health_factors_map:\n",
    "    # Skip comparing with the sample person itself\n",
    "    if other_person_id == sample_person_id:\n",
    "        continue\n",
    "    \n",
    "    # Extract feature vector for the other person\n",
    "    other_features = np.array(list(health_factors_map[other_person_id].values()))\n",
    "    \n",
    "    # Calculate Euclidean distance\n",
    "    distance = euclidean_distance(sample_features, other_features)\n",
    "    \n",
    "    # Calculate similarity based on distance\n",
    "    similarity = 1 / (1 + distance)\n",
    "    \n",
    "    # Append to the rows list\n",
    "    rows.append({\n",
    "        \"sample_person_id\": sample_person_id,\n",
    "        \"other_person_id\": other_person_id,\n",
    "        \"similarity\": similarity\n",
    "    })"
   ]
  },
  {
   "cell_type": "code",
   "execution_count": 104,
   "id": "bd1d4438-4d5e-448a-93d9-f39777d92d9d",
   "metadata": {},
   "outputs": [
    {
     "data": {
      "text/html": [
       "<div>\n",
       "<style scoped>\n",
       "    .dataframe tbody tr th:only-of-type {\n",
       "        vertical-align: middle;\n",
       "    }\n",
       "\n",
       "    .dataframe tbody tr th {\n",
       "        vertical-align: top;\n",
       "    }\n",
       "\n",
       "    .dataframe thead th {\n",
       "        text-align: right;\n",
       "    }\n",
       "</style>\n",
       "<table border=\"1\" class=\"dataframe\">\n",
       "  <thead>\n",
       "    <tr style=\"text-align: right;\">\n",
       "      <th></th>\n",
       "      <th>sample_person_id</th>\n",
       "      <th>other_person_id</th>\n",
       "      <th>similarity</th>\n",
       "    </tr>\n",
       "  </thead>\n",
       "  <tbody>\n",
       "    <tr>\n",
       "      <th>0</th>\n",
       "      <td>34</td>\n",
       "      <td>0</td>\n",
       "      <td>1.000000</td>\n",
       "    </tr>\n",
       "    <tr>\n",
       "      <th>1</th>\n",
       "      <td>34</td>\n",
       "      <td>1</td>\n",
       "      <td>0.274292</td>\n",
       "    </tr>\n",
       "    <tr>\n",
       "      <th>2</th>\n",
       "      <td>34</td>\n",
       "      <td>2</td>\n",
       "      <td>0.163961</td>\n",
       "    </tr>\n",
       "    <tr>\n",
       "      <th>3</th>\n",
       "      <td>34</td>\n",
       "      <td>3</td>\n",
       "      <td>0.231662</td>\n",
       "    </tr>\n",
       "    <tr>\n",
       "      <th>4</th>\n",
       "      <td>34</td>\n",
       "      <td>4</td>\n",
       "      <td>0.366025</td>\n",
       "    </tr>\n",
       "    <tr>\n",
       "      <th>...</th>\n",
       "      <td>...</td>\n",
       "      <td>...</td>\n",
       "      <td>...</td>\n",
       "    </tr>\n",
       "    <tr>\n",
       "      <th>253674</th>\n",
       "      <td>34</td>\n",
       "      <td>253675</td>\n",
       "      <td>0.195194</td>\n",
       "    </tr>\n",
       "    <tr>\n",
       "      <th>253675</th>\n",
       "      <td>34</td>\n",
       "      <td>253676</td>\n",
       "      <td>0.500000</td>\n",
       "    </tr>\n",
       "    <tr>\n",
       "      <th>253676</th>\n",
       "      <td>34</td>\n",
       "      <td>253677</td>\n",
       "      <td>0.366025</td>\n",
       "    </tr>\n",
       "    <tr>\n",
       "      <th>253677</th>\n",
       "      <td>34</td>\n",
       "      <td>253678</td>\n",
       "      <td>0.309017</td>\n",
       "    </tr>\n",
       "    <tr>\n",
       "      <th>253678</th>\n",
       "      <td>34</td>\n",
       "      <td>253679</td>\n",
       "      <td>0.366025</td>\n",
       "    </tr>\n",
       "  </tbody>\n",
       "</table>\n",
       "<p>253679 rows × 3 columns</p>\n",
       "</div>"
      ],
      "text/plain": [
       "        sample_person_id  other_person_id  similarity\n",
       "0                     34                0    1.000000\n",
       "1                     34                1    0.274292\n",
       "2                     34                2    0.163961\n",
       "3                     34                3    0.231662\n",
       "4                     34                4    0.366025\n",
       "...                  ...              ...         ...\n",
       "253674                34           253675    0.195194\n",
       "253675                34           253676    0.500000\n",
       "253676                34           253677    0.366025\n",
       "253677                34           253678    0.309017\n",
       "253678                34           253679    0.366025\n",
       "\n",
       "[253679 rows x 3 columns]"
      ]
     },
     "execution_count": 104,
     "metadata": {},
     "output_type": "execute_result"
    }
   ],
   "source": [
    "# Create similarity dataframe\n",
    "\n",
    "similar_df = pd.DataFrame(rows)\n",
    "similar_df"
   ]
  },
  {
   "cell_type": "code",
   "execution_count": 105,
   "id": "bb009cb6-6d31-45ad-af20-3ab5068688fd",
   "metadata": {},
   "outputs": [
    {
     "data": {
      "text/html": [
       "<div>\n",
       "<style scoped>\n",
       "    .dataframe tbody tr th:only-of-type {\n",
       "        vertical-align: middle;\n",
       "    }\n",
       "\n",
       "    .dataframe tbody tr th {\n",
       "        vertical-align: top;\n",
       "    }\n",
       "\n",
       "    .dataframe thead th {\n",
       "        text-align: right;\n",
       "    }\n",
       "</style>\n",
       "<table border=\"1\" class=\"dataframe\">\n",
       "  <thead>\n",
       "    <tr style=\"text-align: right;\">\n",
       "      <th></th>\n",
       "      <th>sample_person_id</th>\n",
       "      <th>other_person_id</th>\n",
       "      <th>similarity</th>\n",
       "    </tr>\n",
       "  </thead>\n",
       "  <tbody>\n",
       "    <tr>\n",
       "      <th>0</th>\n",
       "      <td>34</td>\n",
       "      <td>0</td>\n",
       "      <td>1.000000</td>\n",
       "    </tr>\n",
       "    <tr>\n",
       "      <th>1</th>\n",
       "      <td>34</td>\n",
       "      <td>1</td>\n",
       "      <td>0.274292</td>\n",
       "    </tr>\n",
       "    <tr>\n",
       "      <th>2</th>\n",
       "      <td>34</td>\n",
       "      <td>2</td>\n",
       "      <td>0.163961</td>\n",
       "    </tr>\n",
       "    <tr>\n",
       "      <th>3</th>\n",
       "      <td>34</td>\n",
       "      <td>3</td>\n",
       "      <td>0.231662</td>\n",
       "    </tr>\n",
       "    <tr>\n",
       "      <th>4</th>\n",
       "      <td>34</td>\n",
       "      <td>4</td>\n",
       "      <td>0.366025</td>\n",
       "    </tr>\n",
       "  </tbody>\n",
       "</table>\n",
       "</div>"
      ],
      "text/plain": [
       "   sample_person_id  other_person_id  similarity\n",
       "0                34                0    1.000000\n",
       "1                34                1    0.274292\n",
       "2                34                2    0.163961\n",
       "3                34                3    0.231662\n",
       "4                34                4    0.366025"
      ]
     },
     "execution_count": 105,
     "metadata": {},
     "output_type": "execute_result"
    }
   ],
   "source": [
    "similar_df.head(5)"
   ]
  },
  {
   "cell_type": "code",
   "execution_count": 106,
   "id": "00a91bf5-1e0d-439b-8435-2518fe477e71",
   "metadata": {},
   "outputs": [
    {
     "data": {
      "text/html": [
       "<div>\n",
       "<style scoped>\n",
       "    .dataframe tbody tr th:only-of-type {\n",
       "        vertical-align: middle;\n",
       "    }\n",
       "\n",
       "    .dataframe tbody tr th {\n",
       "        vertical-align: top;\n",
       "    }\n",
       "\n",
       "    .dataframe thead th {\n",
       "        text-align: right;\n",
       "    }\n",
       "</style>\n",
       "<table border=\"1\" class=\"dataframe\">\n",
       "  <thead>\n",
       "    <tr style=\"text-align: right;\">\n",
       "      <th></th>\n",
       "      <th>sample_person_id</th>\n",
       "      <th>other_person_id</th>\n",
       "      <th>similarity</th>\n",
       "    </tr>\n",
       "  </thead>\n",
       "  <tbody>\n",
       "    <tr>\n",
       "      <th>0</th>\n",
       "      <td>34</td>\n",
       "      <td>0</td>\n",
       "      <td>1.0</td>\n",
       "    </tr>\n",
       "    <tr>\n",
       "      <th>9</th>\n",
       "      <td>34</td>\n",
       "      <td>9</td>\n",
       "      <td>1.0</td>\n",
       "    </tr>\n",
       "    <tr>\n",
       "      <th>66496</th>\n",
       "      <td>34</td>\n",
       "      <td>66497</td>\n",
       "      <td>1.0</td>\n",
       "    </tr>\n",
       "    <tr>\n",
       "      <th>253627</th>\n",
       "      <td>34</td>\n",
       "      <td>253628</td>\n",
       "      <td>1.0</td>\n",
       "    </tr>\n",
       "    <tr>\n",
       "      <th>253656</th>\n",
       "      <td>34</td>\n",
       "      <td>253657</td>\n",
       "      <td>1.0</td>\n",
       "    </tr>\n",
       "  </tbody>\n",
       "</table>\n",
       "</div>"
      ],
      "text/plain": [
       "        sample_person_id  other_person_id  similarity\n",
       "0                     34                0         1.0\n",
       "9                     34                9         1.0\n",
       "66496                 34            66497         1.0\n",
       "253627                34           253628         1.0\n",
       "253656                34           253657         1.0"
      ]
     },
     "execution_count": 106,
     "metadata": {},
     "output_type": "execute_result"
    }
   ],
   "source": [
    "topk = 5\n",
    "top_k_df = similar_df.sort_values(by=\"similarity\", ascending=False).head(topk)\n",
    "top_k_df"
   ]
  },
  {
   "cell_type": "code",
   "execution_count": 107,
   "id": "6fc617ff-9859-41fc-a31b-fec1e9f58a51",
   "metadata": {},
   "outputs": [
    {
     "data": {
      "text/plain": [
       "{'income': 3.0,\n",
       " 'chol_check': 1.0,\n",
       " 'healthcare': 1.0,\n",
       " 'phys_activity': 0.0,\n",
       " 'fruits': 0.0,\n",
       " 'diabetes_outcome': 2.0}"
      ]
     },
     "execution_count": 107,
     "metadata": {},
     "output_type": "execute_result"
    }
   ],
   "source": [
    "health_factors_map[34]"
   ]
  },
  {
   "cell_type": "code",
   "execution_count": 108,
   "id": "55492a37-a6fb-41b3-86ac-09a74d238aed",
   "metadata": {},
   "outputs": [
    {
     "data": {
      "text/plain": [
       "{'income': 3.0,\n",
       " 'chol_check': 1.0,\n",
       " 'healthcare': 1.0,\n",
       " 'phys_activity': 0.0,\n",
       " 'fruits': 0.0,\n",
       " 'diabetes_outcome': 0.0}"
      ]
     },
     "execution_count": 108,
     "metadata": {},
     "output_type": "execute_result"
    }
   ],
   "source": [
    "health_factors_map[0]"
   ]
  },
  {
   "cell_type": "code",
   "execution_count": 109,
   "id": "9c97b447-d143-414a-b5b5-44ee01d689c2",
   "metadata": {},
   "outputs": [
    {
     "data": {
      "text/plain": [
       "{'income': 3.0,\n",
       " 'chol_check': 1.0,\n",
       " 'healthcare': 1.0,\n",
       " 'phys_activity': 0.0,\n",
       " 'fruits': 0.0,\n",
       " 'diabetes_outcome': 0.0}"
      ]
     },
     "execution_count": 109,
     "metadata": {},
     "output_type": "execute_result"
    }
   ],
   "source": [
    "health_factors_map[9]"
   ]
  },
  {
   "cell_type": "code",
   "execution_count": 110,
   "id": "2faa7311-102c-4fae-9356-029c00be8f8d",
   "metadata": {},
   "outputs": [
    {
     "data": {
      "text/plain": [
       "{'income': 3.0,\n",
       " 'chol_check': 1.0,\n",
       " 'healthcare': 1.0,\n",
       " 'phys_activity': 0.0,\n",
       " 'fruits': 0.0,\n",
       " 'diabetes_outcome': 0.0}"
      ]
     },
     "execution_count": 110,
     "metadata": {},
     "output_type": "execute_result"
    }
   ],
   "source": [
    "health_factors_map[66497]"
   ]
  },
  {
   "cell_type": "code",
   "execution_count": 111,
   "id": "e828c28d-4a91-4aaf-9e4d-62099fded9fa",
   "metadata": {},
   "outputs": [
    {
     "data": {
      "text/plain": [
       "{'income': 3.0,\n",
       " 'chol_check': 1.0,\n",
       " 'healthcare': 1.0,\n",
       " 'phys_activity': 0.0,\n",
       " 'fruits': 0.0,\n",
       " 'diabetes_outcome': 2.0}"
      ]
     },
     "execution_count": 111,
     "metadata": {},
     "output_type": "execute_result"
    }
   ],
   "source": [
    "health_factors_map[253628]"
   ]
  },
  {
   "cell_type": "code",
   "execution_count": 112,
   "id": "6f833324-5708-4280-91ea-4dafe028754f",
   "metadata": {},
   "outputs": [
    {
     "data": {
      "text/plain": [
       "{'income': 3.0,\n",
       " 'chol_check': 1.0,\n",
       " 'healthcare': 1.0,\n",
       " 'phys_activity': 0.0,\n",
       " 'fruits': 0.0,\n",
       " 'diabetes_outcome': 0.0}"
      ]
     },
     "execution_count": 112,
     "metadata": {},
     "output_type": "execute_result"
    }
   ],
   "source": [
    "health_factors_map[253657]"
   ]
  },
  {
   "cell_type": "code",
   "execution_count": 113,
   "id": "e388a081-a9b4-42fa-bf37-eea6026a04ac",
   "metadata": {},
   "outputs": [],
   "source": [
    "# Initialize dictionary to store count of each combination of factors and diabetes outcome\n",
    "combination_count = {}\n",
    "\n",
    "# Iterate through each person in top-k\n",
    "for other_person_id in top_k_df[\"other_person_id\"]:\n",
    "    other_person_info = health_factors_map[other_person_id]\n",
    "    \n",
    "    # Extract the values of all the factors for the other person\n",
    "    factor_values = tuple(other_person_info.values())[:-1]  # Exclude the last value which is the diabetes outcome\n",
    "    \n",
    "    # Combine factor values into a tuple\n",
    "    factor_combination = tuple(factor_values)\n",
    "    \n",
    "    # Update dictionary count for the combination\n",
    "    combination_count[factor_combination] = combination_count.get(factor_combination, 0) + 1\n"
   ]
  },
  {
   "cell_type": "code",
   "execution_count": 114,
   "id": "b26c4dac-b232-4dc6-95ca-0c1f6ab7fa15",
   "metadata": {},
   "outputs": [
    {
     "data": {
      "text/plain": [
       "{(3.0, 1.0, 1.0, 0.0, 0.0): 5}"
      ]
     },
     "execution_count": 114,
     "metadata": {},
     "output_type": "execute_result"
    }
   ],
   "source": [
    "combination_count"
   ]
  },
  {
   "cell_type": "code",
   "execution_count": 115,
   "id": "e529089a-7517-4a63-8329-2fe187b9c102",
   "metadata": {},
   "outputs": [],
   "source": [
    "from collections import Counter"
   ]
  },
  {
   "cell_type": "code",
   "execution_count": 116,
   "id": "53ce9f2f-27cf-4dd8-86a5-60ab661632d2",
   "metadata": {},
   "outputs": [
    {
     "name": "stdout",
     "output_type": "stream",
     "text": [
      "Predicted Diagnosis: 0.0\n"
     ]
    }
   ],
   "source": [
    "# Initialize Counter to store count of each diabetes outcome among individuals with similar health factors\n",
    "diabetes_outcome_counter = Counter()\n",
    "\n",
    "# Iterate through each person in top_k_df\n",
    "for other_person_id in top_k_df[\"other_person_id\"]:\n",
    "    other_person_info = health_factors_map[other_person_id]\n",
    "    \n",
    "    # Extract the diabetes outcome for the other person\n",
    "    diabetes_outcome = other_person_info[\"diabetes_outcome\"]\n",
    "    \n",
    "    # Increment the count for the diabetes outcome in the Counter\n",
    "    diabetes_outcome_counter[diabetes_outcome] += 1\n",
    "\n",
    "# Determine the most common diabetes outcome\n",
    "predicted_diagnosis = diabetes_outcome_counter.most_common(1)[0][0]\n",
    "\n",
    "# Print the predicted diagnosis\n",
    "print(\"Predicted Diagnosis:\", predicted_diagnosis)\n"
   ]
  },
  {
   "cell_type": "code",
   "execution_count": 117,
   "id": "a12c6cf3-d28d-4389-bac8-956caac4c04f",
   "metadata": {},
   "outputs": [
    {
     "data": {
      "text/plain": [
       "False"
      ]
     },
     "execution_count": 117,
     "metadata": {},
     "output_type": "execute_result"
    }
   ],
   "source": [
    "# Check if predicted diagnosis matches the test person's actual diagnosis\n",
    "predicted_diagnosis_matches_test = predicted_diagnosis == test_person_object[\"diabetes_outcome\"]\n",
    "predicted_diagnosis_matches_test\n"
   ]
  },
  {
   "cell_type": "code",
   "execution_count": 118,
   "id": "7eb6d5aa-6c8c-4f54-9793-ec5fbb5bee56",
   "metadata": {},
   "outputs": [
    {
     "name": "stdout",
     "output_type": "stream",
     "text": [
      "Most common count: 5\n"
     ]
    }
   ],
   "source": [
    "from collections import Counter\n",
    "\n",
    "# Initialize Counter to store count of each combination of health factors and diabetes outcome\n",
    "health_factors_diagnosis_count = Counter()\n",
    "\n",
    "# Iterate through each person in top_k_df\n",
    "for other_person_id in top_k_df[\"other_person_id\"]:\n",
    "    other_person_info = health_factors_map[other_person_id]\n",
    "    \n",
    "    # Extract health factor values for the other person\n",
    "    factor_values = tuple(other_person_info.values())[:-1]  # Exclude the last value which is the diabetes outcome\n",
    "    \n",
    "    # Combine health factor values into a tuple\n",
    "    factor_combination = tuple(factor_values)\n",
    "    \n",
    "    # Increment the count for the combination in the Counter\n",
    "    health_factors_diagnosis_count[factor_combination] += 1\n",
    "\n",
    "# Calculate count of the most common combination\n",
    "most_common_count = health_factors_diagnosis_count.most_common(1)[0][1]\n",
    "\n",
    "print(\"Most common count:\", most_common_count)\n"
   ]
  },
  {
   "cell_type": "code",
   "execution_count": 119,
   "id": "999636aa-495e-4e53-8ed7-5cbc57ffddc2",
   "metadata": {},
   "outputs": [
    {
     "name": "stdout",
     "output_type": "stream",
     "text": [
      "Accuracy: 0\n"
     ]
    }
   ],
   "source": [
    "# Calculate accuracy\n",
    "accuracy = 1 if predicted_diagnosis_matches_test else 0\n",
    "\n",
    "# Print accuracy\n",
    "print(\"Accuracy:\", accuracy)\n"
   ]
  },
  {
   "cell_type": "markdown",
   "id": "561f8e4b-204e-4258-b576-9d509b5fb559",
   "metadata": {},
   "source": [
    "## Predict Diabetes Outcome"
   ]
  },
  {
   "cell_type": "code",
   "execution_count": 149,
   "id": "ef0c2e12-0c2a-4bf7-a448-4d3b79f7558a",
   "metadata": {},
   "outputs": [],
   "source": [
    "sim_outcomes = []\n",
    "\n",
    "# Iterate through each person in top-k \n",
    "for other_person_id in top_k_df[\"other_person_id\"]:\n",
    "    # Take corresponding person object from health_factors_map\n",
    "    other_person_object = health_factors_map[other_person_id]\n",
    "    \n",
    "    # Append the diabetes outcome of other person to sim_outcomes\n",
    "    sim_outcomes.append(other_person_object[\"diabetes_outcome\"])"
   ]
  },
  {
   "cell_type": "code",
   "execution_count": 150,
   "id": "5788e380-af61-4310-9888-6613f5d78fa7",
   "metadata": {},
   "outputs": [
    {
     "data": {
      "text/html": [
       "<div>\n",
       "<style scoped>\n",
       "    .dataframe tbody tr th:only-of-type {\n",
       "        vertical-align: middle;\n",
       "    }\n",
       "\n",
       "    .dataframe tbody tr th {\n",
       "        vertical-align: top;\n",
       "    }\n",
       "\n",
       "    .dataframe thead th {\n",
       "        text-align: right;\n",
       "    }\n",
       "</style>\n",
       "<table border=\"1\" class=\"dataframe\">\n",
       "  <thead>\n",
       "    <tr style=\"text-align: right;\">\n",
       "      <th></th>\n",
       "      <th>sample_person_id</th>\n",
       "      <th>other_person_id</th>\n",
       "      <th>similarity</th>\n",
       "    </tr>\n",
       "  </thead>\n",
       "  <tbody>\n",
       "    <tr>\n",
       "      <th>0</th>\n",
       "      <td>34</td>\n",
       "      <td>0</td>\n",
       "      <td>1.0</td>\n",
       "    </tr>\n",
       "    <tr>\n",
       "      <th>9</th>\n",
       "      <td>34</td>\n",
       "      <td>9</td>\n",
       "      <td>1.0</td>\n",
       "    </tr>\n",
       "    <tr>\n",
       "      <th>66496</th>\n",
       "      <td>34</td>\n",
       "      <td>66497</td>\n",
       "      <td>1.0</td>\n",
       "    </tr>\n",
       "    <tr>\n",
       "      <th>253627</th>\n",
       "      <td>34</td>\n",
       "      <td>253628</td>\n",
       "      <td>1.0</td>\n",
       "    </tr>\n",
       "    <tr>\n",
       "      <th>253656</th>\n",
       "      <td>34</td>\n",
       "      <td>253657</td>\n",
       "      <td>1.0</td>\n",
       "    </tr>\n",
       "  </tbody>\n",
       "</table>\n",
       "</div>"
      ],
      "text/plain": [
       "        sample_person_id  other_person_id  similarity\n",
       "0                     34                0         1.0\n",
       "9                     34                9         1.0\n",
       "66496                 34            66497         1.0\n",
       "253627                34           253628         1.0\n",
       "253656                34           253657         1.0"
      ]
     },
     "execution_count": 150,
     "metadata": {},
     "output_type": "execute_result"
    }
   ],
   "source": [
    "top_k_df"
   ]
  },
  {
   "cell_type": "code",
   "execution_count": 125,
   "id": "25e9fdff-6059-4d93-88ea-393a2dd0ea8e",
   "metadata": {},
   "outputs": [
    {
     "name": "stdout",
     "output_type": "stream",
     "text": [
      "Counter({0.0: 4, 2.0: 1})\n"
     ]
    }
   ],
   "source": [
    "from collections import Counter\n",
    "\n",
    "# Count occurrences of each diabetes outcome\n",
    "outcome_counts = Counter(sim_outcomes)\n",
    "\n",
    "# Print counts\n",
    "print(outcome_counts)"
   ]
  },
  {
   "cell_type": "code",
   "execution_count": 126,
   "id": "7636a85a-6c61-462f-93a8-1714364c9761",
   "metadata": {},
   "outputs": [
    {
     "data": {
      "text/plain": [
       "0.40000000000000002"
      ]
     },
     "execution_count": 126,
     "metadata": {},
     "output_type": "execute_result"
    }
   ],
   "source": [
    "# Convert strings to integers\n",
    "sim_outcomes_numeric = [int(outcome) for outcome in sim_outcomes]\n",
    "\n",
    "# Calculate the mean\n",
    "mean_outcome = np.mean(sim_outcomes_numeric)\n",
    "mean_outcome"
   ]
  },
  {
   "cell_type": "code",
   "execution_count": 127,
   "id": "03ed5ebe-8444-4dfb-9cd3-ad3954817e79",
   "metadata": {},
   "outputs": [
    {
     "name": "stdout",
     "output_type": "stream",
     "text": [
      "1\n",
      "Mean outcome: 0.0\n",
      "Squared error: 4.0\n",
      "2\n",
      "Mean outcome: 0.0\n",
      "Squared error: 4.0\n",
      "3\n",
      "Mean outcome: 0.0\n",
      "Squared error: 4.0\n",
      "4\n",
      "Mean outcome: 0.5\n",
      "Squared error: 2.25\n",
      "5\n",
      "Mean outcome: 0.4\n",
      "Squared error: 2.56\n",
      "6\n",
      "Mean outcome: 0.666666666667\n",
      "Squared error: 1.77777777778\n",
      "7\n",
      "Mean outcome: 0.857142857143\n",
      "Squared error: 1.30612244898\n",
      "8\n",
      "Mean outcome: 0.75\n",
      "Squared error: 1.5625\n",
      "9\n",
      "Mean outcome: 0.888888888889\n",
      "Squared error: 1.23456790123\n"
     ]
    }
   ],
   "source": [
    "scores = []\n",
    "for k in range(1,10):\n",
    "    print(k)\n",
    "    this_top_k_df = similar_df.sort_values(by=\"similarity\", ascending=False).head(k)\n",
    "    \n",
    "    sim_outcomes = []\n",
    "    for other_person_id in this_top_k_df[\"other_person_id\"]:\n",
    "        other_person_object = health_factors_map[other_person_id]\n",
    "\n",
    "        # convert to integer and append to sim_outcomes\n",
    "        sim_outcomes.append(int(other_person_object[\"diabetes_outcome\"]))\n",
    "\n",
    "    # Calculate mean outcome & squared error\n",
    "    mean_outcome = np.mean(sim_outcomes)\n",
    "    squared_error = (mean_outcome - int(test_person_object[\"diabetes_outcome\"])) ** 2\n",
    "\n",
    "    # Print calculated scores\n",
    "    print(\"Mean outcome:\", mean_outcome)\n",
    "    print(\"Squared error:\", squared_error)\n",
    "    \n",
    "    scores.append({\n",
    "        \"k\": k,\n",
    "        \"predicted_outcome\": mean_outcome,\n",
    "        \"se\": squared_error\n",
    "    })"
   ]
  },
  {
   "cell_type": "code",
   "execution_count": 128,
   "id": "02e519b4-499e-44c8-873d-09bcc05e93b3",
   "metadata": {},
   "outputs": [
    {
     "data": {
      "text/html": [
       "<div>\n",
       "<style scoped>\n",
       "    .dataframe tbody tr th:only-of-type {\n",
       "        vertical-align: middle;\n",
       "    }\n",
       "\n",
       "    .dataframe tbody tr th {\n",
       "        vertical-align: top;\n",
       "    }\n",
       "\n",
       "    .dataframe thead th {\n",
       "        text-align: right;\n",
       "    }\n",
       "</style>\n",
       "<table border=\"1\" class=\"dataframe\">\n",
       "  <thead>\n",
       "    <tr style=\"text-align: right;\">\n",
       "      <th></th>\n",
       "      <th>k</th>\n",
       "      <th>predicted_outcome</th>\n",
       "      <th>se</th>\n",
       "    </tr>\n",
       "  </thead>\n",
       "  <tbody>\n",
       "    <tr>\n",
       "      <th>0</th>\n",
       "      <td>1</td>\n",
       "      <td>0.000000</td>\n",
       "      <td>4.000000</td>\n",
       "    </tr>\n",
       "    <tr>\n",
       "      <th>1</th>\n",
       "      <td>2</td>\n",
       "      <td>0.000000</td>\n",
       "      <td>4.000000</td>\n",
       "    </tr>\n",
       "    <tr>\n",
       "      <th>2</th>\n",
       "      <td>3</td>\n",
       "      <td>0.000000</td>\n",
       "      <td>4.000000</td>\n",
       "    </tr>\n",
       "    <tr>\n",
       "      <th>3</th>\n",
       "      <td>4</td>\n",
       "      <td>0.500000</td>\n",
       "      <td>2.250000</td>\n",
       "    </tr>\n",
       "    <tr>\n",
       "      <th>4</th>\n",
       "      <td>5</td>\n",
       "      <td>0.400000</td>\n",
       "      <td>2.560000</td>\n",
       "    </tr>\n",
       "    <tr>\n",
       "      <th>5</th>\n",
       "      <td>6</td>\n",
       "      <td>0.666667</td>\n",
       "      <td>1.777778</td>\n",
       "    </tr>\n",
       "    <tr>\n",
       "      <th>6</th>\n",
       "      <td>7</td>\n",
       "      <td>0.857143</td>\n",
       "      <td>1.306122</td>\n",
       "    </tr>\n",
       "    <tr>\n",
       "      <th>7</th>\n",
       "      <td>8</td>\n",
       "      <td>0.750000</td>\n",
       "      <td>1.562500</td>\n",
       "    </tr>\n",
       "    <tr>\n",
       "      <th>8</th>\n",
       "      <td>9</td>\n",
       "      <td>0.888889</td>\n",
       "      <td>1.234568</td>\n",
       "    </tr>\n",
       "  </tbody>\n",
       "</table>\n",
       "</div>"
      ],
      "text/plain": [
       "   k  predicted_outcome        se\n",
       "0  1           0.000000  4.000000\n",
       "1  2           0.000000  4.000000\n",
       "2  3           0.000000  4.000000\n",
       "3  4           0.500000  2.250000\n",
       "4  5           0.400000  2.560000\n",
       "5  6           0.666667  1.777778\n",
       "6  7           0.857143  1.306122\n",
       "7  8           0.750000  1.562500\n",
       "8  9           0.888889  1.234568"
      ]
     },
     "execution_count": 128,
     "metadata": {},
     "output_type": "execute_result"
    }
   ],
   "source": [
    "pd.DataFrame(scores)"
   ]
  },
  {
   "cell_type": "code",
   "execution_count": 129,
   "id": "aa0cf03e-a6ea-4b95-9de7-d6393b4724f3",
   "metadata": {},
   "outputs": [
    {
     "data": {
      "text/plain": [
       "<Axes: xlabel='k'>"
      ]
     },
     "execution_count": 129,
     "metadata": {},
     "output_type": "execute_result"
    },
    {
     "data": {
      "image/png": "[encoded data removed]",
      "text/plain": [
       "<Figure size 640x480 with 1 Axes>"
      ]
     },
     "metadata": {},
     "output_type": "display_data"
    }
   ],
   "source": [
    "pd.DataFrame(scores).plot(x=\"k\", y=\"se\")"
   ]
  },
  {
   "cell_type": "code",
   "execution_count": 130,
   "id": "c4c03d0b-72ed-4666-8a71-b9b130bfc5da",
   "metadata": {},
   "outputs": [],
   "source": [
    "import random"
   ]
  },
  {
   "cell_type": "code",
   "execution_count": 131,
   "id": "14b02ca0-4f67-4762-b6e0-1b57336dd97a",
   "metadata": {},
   "outputs": [
    {
     "data": {
      "text/plain": [
       "253680"
      ]
     },
     "execution_count": 131,
     "metadata": {},
     "output_type": "execute_result"
    }
   ],
   "source": [
    "len(health_factors_map.keys())"
   ]
  },
  {
   "cell_type": "code",
   "execution_count": 155,
   "id": "b63818b3-eb34-4ead-8b67-3924a7d03876",
   "metadata": {},
   "outputs": [],
   "source": [
    "import random\n",
    "\n",
    "all_person_ids = list(health_factors_map.keys())\n",
    "random.shuffle(all_person_ids)\n",
    "\n",
    "# Calculate the number of test person IDs based on the desired split\n",
    "num_test_person_ids = int(0.20 * len(all_person_ids))\n",
    "\n",
    "# Split the shuffled IDs into test and train\n",
    "test_person_ids = all_person_ids[:num_test_person_ids]\n",
    "other_person_ids = all_person_ids[num_test_person_ids:]\n"
   ]
  },
  {
   "cell_type": "code",
   "execution_count": 157,
   "id": "2e767e94-460f-4c9a-8239-b6199bf151ff",
   "metadata": {},
   "outputs": [
    {
     "name": "stdout",
     "output_type": "stream",
     "text": [
      "Prediction is correct!\n"
     ]
    }
   ],
   "source": [
    "global_person_map = {}\n",
    "\n",
    "test_person_id = 34\n",
    "\n",
    "# Check if test person ID is present in health_factors_map\n",
    "if test_person_id in health_factors_map:\n",
    "    # Take info about the test person from health_factors_map\n",
    "    test_person_object = health_factors_map[test_person_id]\n",
    "\n",
    "    scores = []\n",
    "\n",
    "    # Iterate over k values\n",
    "    for k in range(1, 20):\n",
    "        # Sort similar_df by similarity and select top k rows\n",
    "        this_top_k_df = similar_df.sort_values(by=\"similarity\", ascending=False).head(k)\n",
    "\n",
    "        # Initialize list to store outcomes for each similar person\n",
    "        sim_outcomes = []\n",
    "\n",
    "        # Iterate over person_ids in top k\n",
    "        for other_person_id in this_top_k_df[\"other_person_id\"]:\n",
    "            other_person_object = health_factors_map[other_person_id]\n",
    "\n",
    "            # Append numeric outcome to sim_outcomes\n",
    "            sim_outcomes.append(float(other_person_object[\"diabetes_outcome\"]))  # Convert to float\n",
    "\n",
    "        # Calculate mean of sim_outcomes\n",
    "        mean_outcome = np.mean(sim_outcomes)\n",
    "\n",
    "        # Convert target_person_object[\"diabetes_outcome\"] to float\n",
    "        target_diabetes_outcome = float(test_person_object[\"diabetes_outcome\"])\n",
    "\n",
    "        # Determine predicted outcome based on rounded mean\n",
    "        predicted_diabetes = round(mean_outcome / 2) * 2\n",
    "\n",
    "        # Calculate squared error\n",
    "        squared_error = (mean_outcome - target_diabetes_outcome) ** 2\n",
    "\n",
    "        # Append k, predicted_outcome, and squared error to scores list\n",
    "        scores.append({\n",
    "            \"k\": k,\n",
    "            \"predicted_outcome\": predicted_diabetes,\n",
    "            \"se\": squared_error\n",
    "        })\n",
    "\n",
    "    # Convert scores list to DataFrame and store in global_person_map\n",
    "    global_person_map[test_person_id] = pd.DataFrame(scores)\n",
    "\n",
    "    # Get predicted outcome for test person from global_person_map\n",
    "    predicted_df = global_person_map[test_person_id]\n",
    "\n",
    "    # Get test person predicted outcome\n",
    "    predicted_outcome = predicted_df[predicted_df[\"k\"] == 13][\"predicted_outcome\"].values[0]  # Replace k with the desired value of k\n",
    "\n",
    "    # Get test person's actual outcome from the health_person_map\n",
    "    actual_outcome = float(test_person_object.get(\"diabetes_outcome\", -1))\n",
    "\n",
    "    if actual_outcome != -1:\n",
    "        # Compare predicted outcome with the actual outcome\n",
    "        if predicted_outcome == actual_outcome:\n",
    "            print(\"Prediction is correct!\")\n",
    "        else:\n",
    "            print(\"Prediction is incorrect!\")\n",
    "    else:\n",
    "        print(\"Actual outcome not available for the test person.\")\n",
    "else:\n",
    "    print(\"Test person not found in health_factors_map.\")\n"
   ]
  },
  {
   "cell_type": "code",
   "execution_count": 140,
   "id": "4a0f44da-b5c8-40a9-94c0-c28293cc47c0",
   "metadata": {},
   "outputs": [
    {
     "data": {
      "text/plain": [
       "{34:      k  predicted_outcome        se\n",
       " 0    1                  0  4.000000\n",
       " 1    2                  0  4.000000\n",
       " 2    3                  0  4.000000\n",
       " 3    4                  0  2.250000\n",
       " 4    5                  0  2.560000\n",
       " 5    6                  0  1.777778\n",
       " 6    7                  0  1.306122\n",
       " 7    8                  0  1.562500\n",
       " 8    9                  0  1.234568\n",
       " 9   10                  0  1.000000\n",
       " 10  11                  2  0.826446\n",
       " 11  12                  2  0.694444\n",
       " 12  13                  2  0.591716\n",
       " 13  14                  2  0.734694\n",
       " 14  15                  2  0.871111\n",
       " 15  16                  2  0.765625\n",
       " 16  17                  2  0.678201\n",
       " 17  18                  2  0.790123\n",
       " 18  19                  2  0.897507}"
      ]
     },
     "execution_count": 140,
     "metadata": {},
     "output_type": "execute_result"
    }
   ],
   "source": [
    "global_person_map"
   ]
  },
  {
   "cell_type": "code",
   "execution_count": 141,
   "id": "e2479476-ad67-46fa-9a62-abb5dc2f59c9",
   "metadata": {},
   "outputs": [],
   "source": [
    "k_se_scores = {}\n",
    "for k_df in global_person_map.values():\n",
    "    for _,row in k_df.iterrows():\n",
    "        k_se_scores[row[\"k\"]] = k_se_scores.get(row[\"k\"], []) + [row[\"se\"]]"
   ]
  },
  {
   "cell_type": "code",
   "execution_count": 142,
   "id": "f1498275-ac82-4861-ac11-c417ab124cd7",
   "metadata": {},
   "outputs": [
    {
     "data": {
      "text/plain": [
       "0.59171597633136086"
      ]
     },
     "execution_count": 142,
     "metadata": {},
     "output_type": "execute_result"
    }
   ],
   "source": [
    "np.mean(k_se_scores[13])"
   ]
  },
  {
   "cell_type": "code",
   "execution_count": 143,
   "id": "5217bf65-57da-4422-b063-5160c9dc312a",
   "metadata": {},
   "outputs": [
    {
     "data": {
      "text/plain": [
       "4.0"
      ]
     },
     "execution_count": 143,
     "metadata": {},
     "output_type": "execute_result"
    }
   ],
   "source": [
    "np.mean(k_se_scores[3])"
   ]
  },
  {
   "cell_type": "code",
   "execution_count": 144,
   "id": "91c8cd1a-f7d0-4038-9643-d6354b176d45",
   "metadata": {},
   "outputs": [
    {
     "data": {
      "text/plain": [
       "<Axes: xlabel='0'>"
      ]
     },
     "execution_count": 144,
     "metadata": {},
     "output_type": "execute_result"
    },
    {
     "data": {
      "image/png": "[encoded data removed]",
      "text/plain": [
       "<Figure size 640x480 with 1 Axes>"
      ]
     },
     "metadata": {},
     "output_type": "display_data"
    }
   ],
   "source": [
    "pd.DataFrame([(k,np.mean(v)) for k,v in k_se_scores.items()]).plot(x=0, y=1)"
   ]
  },
  {
   "cell_type": "markdown",
   "id": "59381ca3-9d0c-46eb-bb3a-514e9ceb5ffc",
   "metadata": {},
   "source": [
    "Counts for income level 1:"
   ]
  },
  {
   "cell_type": "code",
   "execution_count": 145,
   "id": "38fc7818-a581-495e-9d50-f2182b789cf1",
   "metadata": {},
   "outputs": [
    {
     "name": "stdout",
     "output_type": "stream",
     "text": [
      "Instances of factor level 0 for individuals with diabetes outcome 0: 7114\n",
      "Instances of factor level 0 for individuals with diabetes outcome 1: 314\n",
      "Instances of factor level 0 for individuals with diabetes outcome 2: 2383\n"
     ]
    }
   ],
   "source": [
    "# Initialize counts for each factor level and each diabetes outcome\n",
    "count_factor_level_0_diabetes_0 = 0\n",
    "count_factor_level_0_diabetes_1 = 0\n",
    "count_factor_level_0_diabetes_2 = 0\n",
    "# Repeat for each factor level as needed...\n",
    "\n",
    "# Iterate through health_factors_map\n",
    "for person_info in health_factors_map.values():\n",
    "    factor_level = person_info[\"income\"]\n",
    "    diabetes_outcome = person_info[\"diabetes_outcome\"]\n",
    "\n",
    "    # Check if factor level is 0 and diabetes outcome is 0 or 1\n",
    "    if factor_level == 1:\n",
    "        if diabetes_outcome == 0:\n",
    "            count_factor_level_0_diabetes_0 += 1\n",
    "        if diabetes_outcome == 1:\n",
    "            count_factor_level_0_diabetes_1 += 1\n",
    "        elif diabetes_outcome == 2:\n",
    "            count_factor_level_0_diabetes_2 += 1\n",
    "\n",
    "\n",
    "# Print counts\n",
    "print(\"Instances of factor level 0 for individuals with diabetes outcome 0:\", count_factor_level_0_diabetes_0)\n",
    "print(\"Instances of factor level 0 for individuals with diabetes outcome 1:\", count_factor_level_0_diabetes_1)\n",
    "print(\"Instances of factor level 0 for individuals with diabetes outcome 2:\", count_factor_level_0_diabetes_2)\n",
    "\n",
    "\n"
   ]
  },
  {
   "cell_type": "markdown",
   "id": "7e11b84e-a30c-4a5f-b42f-08859dd6c7b5",
   "metadata": {},
   "source": [
    "Counts for chol_check:"
   ]
  },
  {
   "cell_type": "code",
   "execution_count": 146,
   "id": "5ef8e47e-eb03-41d2-93f2-db6146b55b8d",
   "metadata": {},
   "outputs": [
    {
     "name": "stdout",
     "output_type": "stream",
     "text": [
      "Instances of factor level 0 for individuals with diabetes outcome 0: 9167\n",
      "Instances of factor level 0 for individuals with diabetes outcome 1: 62\n",
      "Instances of factor level 0 for individuals with diabetes outcome 2: 241\n"
     ]
    }
   ],
   "source": [
    "# Initialize counts for each factor level and each diabetes outcome\n",
    "count_factor_level_0_diabetes_0 = 0\n",
    "count_factor_level_0_diabetes_1 = 0\n",
    "count_factor_level_0_diabetes_2 = 0\n",
    "# Repeat for each factor level as needed...\n",
    "\n",
    "# Iterate through health_factors_map\n",
    "for person_info in health_factors_map.values():\n",
    "    factor_level = person_info[\"chol_check\"]\n",
    "    diabetes_outcome = person_info[\"diabetes_outcome\"]\n",
    "\n",
    "    # Check if factor level is 0 and diabetes outcome is 0 or 1\n",
    "    if factor_level == 0:\n",
    "        if diabetes_outcome == 0:\n",
    "            count_factor_level_0_diabetes_0 += 1\n",
    "        if diabetes_outcome == 1:\n",
    "            count_factor_level_0_diabetes_1 += 1\n",
    "        elif diabetes_outcome == 2:\n",
    "            count_factor_level_0_diabetes_2 += 1\n",
    "\n",
    "\n",
    "# Print counts\n",
    "print(\"Instances of factor level 0 for individuals with diabetes outcome 0:\", count_factor_level_0_diabetes_0)\n",
    "print(\"Instances of factor level 0 for individuals with diabetes outcome 1:\", count_factor_level_0_diabetes_1)\n",
    "print(\"Instances of factor level 0 for individuals with diabetes outcome 2:\", count_factor_level_0_diabetes_2)"
   ]
  },
  {
   "cell_type": "markdown",
   "id": "62bd761b-6251-431a-9585-a38855326895",
   "metadata": {},
   "source": [
    "Counts for healthcare:"
   ]
  },
  {
   "cell_type": "code",
   "execution_count": 148,
   "id": "0418abca-61cb-4646-a08b-1100cd09cdc8",
   "metadata": {},
   "outputs": [
    {
     "name": "stdout",
     "output_type": "stream",
     "text": [
      "Instances of factor level 0 for individuals with diabetes outcome 0: 10741\n",
      "Instances of factor level 0 for individuals with diabetes outcome 1: 254\n",
      "Instances of factor level 0 for individuals with diabetes outcome 2: 1422\n"
     ]
    }
   ],
   "source": [
    "# Initialize counts for each factor level and each diabetes outcome\n",
    "count_factor_level_0_diabetes_0 = 0\n",
    "count_factor_level_0_diabetes_1 = 0\n",
    "count_factor_level_0_diabetes_2 = 0\n",
    "# Repeat for each factor level as needed...\n",
    "\n",
    "# Iterate through health_factors_map\n",
    "for person_info in health_factors_map.values():\n",
    "    factor_level = person_info[\"healthcare\"]\n",
    "    diabetes_outcome = person_info[\"diabetes_outcome\"]\n",
    "\n",
    "    # Check if factor level is 0 and diabetes outcome is 0 or 1\n",
    "    if factor_level == 0:\n",
    "        if diabetes_outcome == 0:\n",
    "            count_factor_level_0_diabetes_0 += 1\n",
    "        if diabetes_outcome == 1:\n",
    "            count_factor_level_0_diabetes_1 += 1\n",
    "        elif diabetes_outcome == 2:\n",
    "            count_factor_level_0_diabetes_2 += 1\n",
    "\n",
    "\n",
    "# Print counts\n",
    "print(\"Instances of factor level 0 for individuals with diabetes outcome 0:\", count_factor_level_0_diabetes_0)\n",
    "print(\"Instances of factor level 0 for individuals with diabetes outcome 1:\", count_factor_level_0_diabetes_1)\n",
    "print(\"Instances of factor level 0 for individuals with diabetes outcome 2:\", count_factor_level_0_diabetes_2)"
   ]
  },
  {
   "cell_type": "markdown",
   "id": "c336ee6c-f20a-486b-990d-760b0b20adc8",
   "metadata": {},
   "source": [
    "Counts for phys_activity:"
   ]
  },
  {
   "cell_type": "code",
   "execution_count": 147,
   "id": "d6b63532-c082-4835-b871-ef2ba335bb12",
   "metadata": {},
   "outputs": [
    {
     "name": "stdout",
     "output_type": "stream",
     "text": [
      "Instances of factor level 0 for individuals with diabetes outcome 0: 47212\n",
      "Instances of factor level 0 for individuals with diabetes outcome 1: 1489\n",
      "Instances of factor level 0 for individuals with diabetes outcome 2: 13059\n"
     ]
    }
   ],
   "source": [
    "# Initialize counts for each factor level and each diabetes outcome\n",
    "count_factor_level_0_diabetes_0 = 0\n",
    "count_factor_level_0_diabetes_1 = 0\n",
    "count_factor_level_0_diabetes_2 = 0\n",
    "# Repeat for each factor level as needed...\n",
    "\n",
    "# Iterate through health_factors_map\n",
    "for person_info in health_factors_map.values():\n",
    "    factor_level = person_info[\"phys_activity\"]\n",
    "    diabetes_outcome = person_info[\"diabetes_outcome\"]\n",
    "\n",
    "    # Check if factor level is 0 and diabetes outcome is 0 or 1\n",
    "    if factor_level == 0:\n",
    "        if diabetes_outcome == 0:\n",
    "            count_factor_level_0_diabetes_0 += 1\n",
    "        if diabetes_outcome == 1:\n",
    "            count_factor_level_0_diabetes_1 += 1\n",
    "        elif diabetes_outcome == 2:\n",
    "            count_factor_level_0_diabetes_2 += 1\n",
    "\n",
    "\n",
    "# Print counts\n",
    "print(\"Instances of factor level 0 for individuals with diabetes outcome 0:\", count_factor_level_0_diabetes_0)\n",
    "print(\"Instances of factor level 0 for individuals with diabetes outcome 1:\", count_factor_level_0_diabetes_1)\n",
    "print(\"Instances of factor level 0 for individuals with diabetes outcome 2:\", count_factor_level_0_diabetes_2)"
   ]
  },
  {
   "cell_type": "markdown",
   "id": "de1583b0-3773-4df8-ad52-5f9879b812f2",
   "metadata": {},
   "source": [
    "Counts for 'fruits':"
   ]
  },
  {
   "cell_type": "code",
   "execution_count": 79,
   "id": "a1e8b897-adfd-4257-b6f6-80520d29f377",
   "metadata": {},
   "outputs": [
    {
     "name": "stdout",
     "output_type": "stream",
     "text": [
      "Instances of factor level 0 for individuals with diabetes outcome 0: 76287\n",
      "Instances of factor level 0 for individuals with diabetes outcome 1: 1842\n",
      "Instances of factor level 0 for individuals with diabetes outcome 2: 14653\n"
     ]
    }
   ],
   "source": [
    "# Initialize counts for each factor level and each diabetes outcome\n",
    "count_factor_level_0_diabetes_0 = 0\n",
    "count_factor_level_0_diabetes_1 = 0\n",
    "count_factor_level_0_diabetes_2 = 0\n",
    "# Repeat for each factor level as needed...\n",
    "\n",
    "# Iterate through health_factors_map\n",
    "for person_info in health_factors_map.values():\n",
    "    factor_level = person_info[\"fruits\"]\n",
    "    diabetes_outcome = person_info[\"diabetes_outcome\"]\n",
    "\n",
    "    # Check if factor level is 0 and diabetes outcome is 0 or 1\n",
    "    if factor_level == 0:\n",
    "        if diabetes_outcome == 0:\n",
    "            count_factor_level_0_diabetes_0 += 1\n",
    "        if diabetes_outcome == 1:\n",
    "            count_factor_level_0_diabetes_1 += 1\n",
    "        elif diabetes_outcome == 2:\n",
    "            count_factor_level_0_diabetes_2 += 1\n",
    "\n",
    "\n",
    "# Print counts\n",
    "print(\"Instances of factor level 0 for individuals with diabetes outcome 0:\", count_factor_level_0_diabetes_0)\n",
    "print(\"Instances of factor level 0 for individuals with diabetes outcome 1:\", count_factor_level_0_diabetes_1)\n",
    "print(\"Instances of factor level 0 for individuals with diabetes outcome 2:\", count_factor_level_0_diabetes_2)"
   ]
  }
 ],
 "metadata": {
  "kernelspec": {
   "display_name": "Python 3 (ipykernel)",
   "language": "python",
   "name": "python3"
  },
  "language_info": {
   "codemirror_mode": {
    "name": "ipython",
    "version": 3
   },
   "file_extension": ".py",
   "mimetype": "text/x-python",
   "name": "python",
   "nbconvert_exporter": "python",
   "pygments_lexer": "ipython3",
   "version": "3.11.5"
  }
 },
 "nbformat": 4,
 "nbformat_minor": 5
}
