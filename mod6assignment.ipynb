{
 "cells": [
  {
   "cell_type": "markdown",
   "id": "c1f69eae-c3d1-4be5-8b1d-97c573bb335b",
   "metadata": {},
   "source": [
    "## Predicting Diabetes with Insulin"
   ]
  },
  {
   "cell_type": "markdown",
   "id": "3bdc9a0b-fe74-4143-9847-0b2741fd3f94",
   "metadata": {},
   "source": [
    "Using the k-nearest neighbors method, use the top-k most similar people to predict whether a person has diabetes or not"
   ]
  },
  {
   "cell_type": "markdown",
   "id": "84869303-5638-40f8-810d-3e3c0c0db081",
   "metadata": {},
   "source": [
    "Use Jaccard similarity based on distances of people's health data to rank this data and select the top-k most similar health profiles"
   ]
  },
  {
   "cell_type": "code",
   "execution_count": 10,
   "id": "59133961-208f-4ab1-b0eb-052f2463615f",
   "metadata": {},
   "outputs": [],
   "source": [
    "import csv\n",
    "\n",
    "import pandas as pd\n",
    "import numpy as np\n",
    "\n",
    "from scipy.sparse import lil_matrix\n",
    "\n",
    "import matplotlib.pyplot as plt"
   ]
  },
  {
   "cell_type": "code",
   "execution_count": 11,
   "id": "90175a2d-48ef-4ee6-af10-c0d8fab35506",
   "metadata": {},
   "outputs": [],
   "source": [
    "\n",
    "\n",
    "# Add an index column to a CSV file\n",
    "def add_index_column(input_file, output_file):\n",
    "    with open(input_file, \"r\") as infile, open(output_file, \"w\", newline='') as outfile:\n",
    "        reader = csv.reader(infile)\n",
    "        writer = csv.writer(outfile)\n",
    "\n",
    "        # Read header\n",
    "        header = next(reader)\n",
    "        header.insert(0, \"index\")  # Insert \"index\" at the beginning of the header\n",
    "\n",
    "        # Write updated header to output file\n",
    "        writer.writerow(header)\n",
    "\n",
    "        # Write rows with index to the output file\n",
    "        for index, row in enumerate(reader, start=1):\n",
    "            row.insert(0, index)  # Insert the index value at the beginning of each row\n",
    "            writer.writerow(row)\n",
    "\n",
    "\n",
    "input_file = \"diabetes2.csv\" \n",
    "output_file = \"diabetes2_with_index.csv\"  \n",
    "add_index_column(input_file, output_file)\n"
   ]
  },
  {
   "cell_type": "markdown",
   "id": "7ad86257-20fc-44a1-862a-eee61a00033c",
   "metadata": {},
   "source": [
    "Create maps for person_outcome_map and insulin_person_map. The first contains each person's diabetes outcome with corresponding index; the second contains each person's insulin level, diabetes outcome, and corresponding index"
   ]
  },
  {
   "cell_type": "code",
   "execution_count": 12,
   "id": "4411afaa-22fa-4676-94a2-d11c25c69f3f",
   "metadata": {},
   "outputs": [
    {
     "data": {
      "text/plain": [
       "{'insulin_level': '0', 'diabetes_outcome': '1'}"
      ]
     },
     "execution_count": 12,
     "metadata": {},
     "output_type": "execute_result"
    }
   ],
   "source": [
    "import csv\n",
    "\n",
    "person_outcome_map = {}\n",
    "insulin_person_map = {}\n",
    "\n",
    "# Read diabetes CSV\n",
    "with open(\"diabetes2_with_index.csv\", \"r\") as csvfile:\n",
    "    csvreader = csv.DictReader(csvfile)\n",
    "\n",
    "    for row in csvreader:\n",
    "\n",
    "        index = row['index']\n",
    "        insulin_level = row['Insulin']\n",
    "        diabetes_outcome = row['Outcome']\n",
    "\n",
    "        # Update person_outcome_map with automatically generated index\n",
    "        person_outcome_map[index] = {\"person\": index, \"diabetes_outcome\": diabetes_outcome}\n",
    "\n",
    "        # Update insulin_person_map with automatically generated index\n",
    "        insulin_person_map[index] = {\"insulin_level\": insulin_level, \"diabetes_outcome\": diabetes_outcome}\n",
    "\n",
    "# access the mappings:\n",
    "# person_outcome_map contains each person's diabetes outcome with corresponding index\n",
    "# insulin_person_map contains each person's insulin level, diabetes outcome, and corresponding index\n",
    "\n",
    "# test index of 1\n",
    "insulin_person_map['1']\n",
    "\n"
   ]
  },
  {
   "cell_type": "code",
   "execution_count": 13,
   "id": "021d16a8-c87b-4ea4-9fbc-43a18a59c272",
   "metadata": {},
   "outputs": [
    {
     "name": "stdout",
     "output_type": "stream",
     "text": [
      "Known people: 768\n",
      "Known people: 768\n"
     ]
    }
   ],
   "source": [
    "print(\"Known people:\", len(insulin_person_map))\n",
    "print(\"Known people:\", len(person_outcome_map))"
   ]
  },
  {
   "cell_type": "code",
   "execution_count": 14,
   "id": "7ab7213b-e154-4598-9431-6ac6941c413c",
   "metadata": {},
   "outputs": [
    {
     "data": {
      "text/plain": [
       "{'insulin_level': '0', 'diabetes_outcome': '1'}"
      ]
     },
     "execution_count": 14,
     "metadata": {},
     "output_type": "execute_result"
    }
   ],
   "source": [
    "test_person_id = \"1\"\n",
    "test_person_object = insulin_person_map[test_person_id]\n",
    "test_person_object"
   ]
  },
  {
   "cell_type": "markdown",
   "id": "980437fc-9fa8-4524-b7e1-260d294a2660",
   "metadata": {},
   "source": [
    "\n",
    "\n",
    "Calculate Jaccard similarity of people based on insulin level and append similarity to 'rows': "
   ]
  },
  {
   "cell_type": "code",
   "execution_count": 15,
   "id": "2474eb66-57d0-46de-b9cb-ada5661df961",
   "metadata": {},
   "outputs": [],
   "source": [
    "rows = []\n",
    "\n",
    "# Get the insulin level for the test person\n",
    "test_insulin_level = test_person_object[\"insulin_level\"]\n",
    "\n",
    "# Iterate through each person in the insulin_person_map\n",
    "for other_person_id, other_person_info in insulin_person_map.items():\n",
    "    # Skip the test person\n",
    "    if other_person_id == test_person_id:\n",
    "        continue\n",
    "    \n",
    "    # Get the insulin level for the other person\n",
    "    other_insulin_level = other_person_info[\"insulin_level\"]\n",
    "    \n",
    "    # Calculate similarity based on insulin level \n",
    "    similarity = 1 / (1 + abs(float(other_insulin_level) - float(test_insulin_level)))\n",
    "    \n",
    "    rows.append({\n",
    "        \"person_id\": other_person_id,\n",
    "        \"similarity\": similarity\n",
    "    })\n",
    "\n"
   ]
  },
  {
   "cell_type": "code",
   "execution_count": 16,
   "id": "f2337af1-517c-4199-9869-eaa6f0d2db13",
   "metadata": {},
   "outputs": [],
   "source": [
    "similar_df = pd.DataFrame(rows)"
   ]
  },
  {
   "cell_type": "code",
   "execution_count": 17,
   "id": "0cb1aad6-c334-4e04-a57b-bb2d9007c387",
   "metadata": {},
   "outputs": [
    {
     "data": {
      "text/html": [
       "<div>\n",
       "<style scoped>\n",
       "    .dataframe tbody tr th:only-of-type {\n",
       "        vertical-align: middle;\n",
       "    }\n",
       "\n",
       "    .dataframe tbody tr th {\n",
       "        vertical-align: top;\n",
       "    }\n",
       "\n",
       "    .dataframe thead th {\n",
       "        text-align: right;\n",
       "    }\n",
       "</style>\n",
       "<table border=\"1\" class=\"dataframe\">\n",
       "  <thead>\n",
       "    <tr style=\"text-align: right;\">\n",
       "      <th></th>\n",
       "      <th>person_id</th>\n",
       "      <th>similarity</th>\n",
       "    </tr>\n",
       "  </thead>\n",
       "  <tbody>\n",
       "    <tr>\n",
       "      <th>0</th>\n",
       "      <td>2</td>\n",
       "      <td>1.000000</td>\n",
       "    </tr>\n",
       "    <tr>\n",
       "      <th>1</th>\n",
       "      <td>3</td>\n",
       "      <td>1.000000</td>\n",
       "    </tr>\n",
       "    <tr>\n",
       "      <th>2</th>\n",
       "      <td>4</td>\n",
       "      <td>0.010526</td>\n",
       "    </tr>\n",
       "    <tr>\n",
       "      <th>3</th>\n",
       "      <td>5</td>\n",
       "      <td>0.005917</td>\n",
       "    </tr>\n",
       "    <tr>\n",
       "      <th>4</th>\n",
       "      <td>6</td>\n",
       "      <td>1.000000</td>\n",
       "    </tr>\n",
       "  </tbody>\n",
       "</table>\n",
       "</div>"
      ],
      "text/plain": [
       "  person_id  similarity\n",
       "0         2    1.000000\n",
       "1         3    1.000000\n",
       "2         4    0.010526\n",
       "3         5    0.005917\n",
       "4         6    1.000000"
      ]
     },
     "execution_count": 17,
     "metadata": {},
     "output_type": "execute_result"
    }
   ],
   "source": [
    "similar_df.head(5)"
   ]
  },
  {
   "cell_type": "code",
   "execution_count": 18,
   "id": "d46d19b0-6bcd-4d0a-b566-0be771f865ff",
   "metadata": {},
   "outputs": [
    {
     "data": {
      "text/html": [
       "<div>\n",
       "<style scoped>\n",
       "    .dataframe tbody tr th:only-of-type {\n",
       "        vertical-align: middle;\n",
       "    }\n",
       "\n",
       "    .dataframe tbody tr th {\n",
       "        vertical-align: top;\n",
       "    }\n",
       "\n",
       "    .dataframe thead th {\n",
       "        text-align: right;\n",
       "    }\n",
       "</style>\n",
       "<table border=\"1\" class=\"dataframe\">\n",
       "  <thead>\n",
       "    <tr style=\"text-align: right;\">\n",
       "      <th></th>\n",
       "      <th>person_id</th>\n",
       "      <th>similarity</th>\n",
       "    </tr>\n",
       "  </thead>\n",
       "  <tbody>\n",
       "    <tr>\n",
       "      <th>766</th>\n",
       "      <td>768</td>\n",
       "      <td>1.0</td>\n",
       "    </tr>\n",
       "    <tr>\n",
       "      <th>0</th>\n",
       "      <td>2</td>\n",
       "      <td>1.0</td>\n",
       "    </tr>\n",
       "    <tr>\n",
       "      <th>1</th>\n",
       "      <td>3</td>\n",
       "      <td>1.0</td>\n",
       "    </tr>\n",
       "    <tr>\n",
       "      <th>765</th>\n",
       "      <td>767</td>\n",
       "      <td>1.0</td>\n",
       "    </tr>\n",
       "    <tr>\n",
       "      <th>763</th>\n",
       "      <td>765</td>\n",
       "      <td>1.0</td>\n",
       "    </tr>\n",
       "    <tr>\n",
       "      <th>4</th>\n",
       "      <td>6</td>\n",
       "      <td>1.0</td>\n",
       "    </tr>\n",
       "    <tr>\n",
       "      <th>761</th>\n",
       "      <td>763</td>\n",
       "      <td>1.0</td>\n",
       "    </tr>\n",
       "    <tr>\n",
       "      <th>6</th>\n",
       "      <td>8</td>\n",
       "      <td>1.0</td>\n",
       "    </tr>\n",
       "    <tr>\n",
       "      <th>760</th>\n",
       "      <td>762</td>\n",
       "      <td>1.0</td>\n",
       "    </tr>\n",
       "    <tr>\n",
       "      <th>8</th>\n",
       "      <td>10</td>\n",
       "      <td>1.0</td>\n",
       "    </tr>\n",
       "  </tbody>\n",
       "</table>\n",
       "</div>"
      ],
      "text/plain": [
       "    person_id  similarity\n",
       "766       768         1.0\n",
       "0           2         1.0\n",
       "1           3         1.0\n",
       "765       767         1.0\n",
       "763       765         1.0\n",
       "4           6         1.0\n",
       "761       763         1.0\n",
       "6           8         1.0\n",
       "760       762         1.0\n",
       "8          10         1.0"
      ]
     },
     "execution_count": 18,
     "metadata": {},
     "output_type": "execute_result"
    }
   ],
   "source": [
    "tentop = 10\n",
    "top_ten_df = similar_df.sort_values(by=\"similarity\", ascending=False).head(tentop)\n",
    "top_ten_df\n"
   ]
  },
  {
   "cell_type": "code",
   "execution_count": 66,
   "id": "40c1122a-f8f5-4c17-830d-6a01c789227d",
   "metadata": {},
   "outputs": [
    {
     "data": {
      "text/plain": [
       "{'insulin_level': '0', 'diabetes_outcome': '0'}"
      ]
     },
     "execution_count": 66,
     "metadata": {},
     "output_type": "execute_result"
    }
   ],
   "source": [
    "insulin_person_map['768']"
   ]
  },
  {
   "cell_type": "code",
   "execution_count": 67,
   "id": "ca711230-d33e-41f4-a1f1-4d749c4e873e",
   "metadata": {},
   "outputs": [
    {
     "data": {
      "text/plain": [
       "{'insulin_level': '0', 'diabetes_outcome': '0'}"
      ]
     },
     "execution_count": 67,
     "metadata": {},
     "output_type": "execute_result"
    }
   ],
   "source": [
    "insulin_person_map['2']"
   ]
  },
  {
   "cell_type": "code",
   "execution_count": 68,
   "id": "75320d47-c57a-4b8e-848d-5a474d7770cb",
   "metadata": {},
   "outputs": [
    {
     "data": {
      "text/plain": [
       "{'insulin_level': '0', 'diabetes_outcome': '1'}"
      ]
     },
     "execution_count": 68,
     "metadata": {},
     "output_type": "execute_result"
    }
   ],
   "source": [
    "insulin_person_map['3']"
   ]
  },
  {
   "cell_type": "code",
   "execution_count": 69,
   "id": "a455384d-5e2c-4b86-995c-d69eacf36d34",
   "metadata": {},
   "outputs": [
    {
     "data": {
      "text/plain": [
       "{'insulin_level': '0', 'diabetes_outcome': '1'}"
      ]
     },
     "execution_count": 69,
     "metadata": {},
     "output_type": "execute_result"
    }
   ],
   "source": [
    "insulin_person_map['767']"
   ]
  },
  {
   "cell_type": "code",
   "execution_count": 70,
   "id": "37e643d5-672a-453b-89f9-40e7c8c5a4a7",
   "metadata": {},
   "outputs": [
    {
     "data": {
      "text/plain": [
       "{'insulin_level': '0', 'diabetes_outcome': '0'}"
      ]
     },
     "execution_count": 70,
     "metadata": {},
     "output_type": "execute_result"
    }
   ],
   "source": [
    "insulin_person_map['765']"
   ]
  },
  {
   "cell_type": "code",
   "execution_count": 71,
   "id": "c7f3a5fa-97a7-4577-ad33-596c37de5a19",
   "metadata": {},
   "outputs": [
    {
     "data": {
      "text/plain": [
       "{'insulin_level': '0', 'diabetes_outcome': '0'}"
      ]
     },
     "execution_count": 71,
     "metadata": {},
     "output_type": "execute_result"
    }
   ],
   "source": [
    "insulin_person_map['6']"
   ]
  },
  {
   "cell_type": "code",
   "execution_count": 72,
   "id": "d72397bf-7e1f-424a-9dd9-4c7a658a2939",
   "metadata": {},
   "outputs": [
    {
     "data": {
      "text/plain": [
       "{'insulin_level': '0', 'diabetes_outcome': '0'}"
      ]
     },
     "execution_count": 72,
     "metadata": {},
     "output_type": "execute_result"
    }
   ],
   "source": [
    "insulin_person_map['763']"
   ]
  },
  {
   "cell_type": "code",
   "execution_count": 19,
   "id": "f5242acd-2e7b-4b00-8b31-3e21b8260d8e",
   "metadata": {},
   "outputs": [
    {
     "data": {
      "text/html": [
       "<div>\n",
       "<style scoped>\n",
       "    .dataframe tbody tr th:only-of-type {\n",
       "        vertical-align: middle;\n",
       "    }\n",
       "\n",
       "    .dataframe tbody tr th {\n",
       "        vertical-align: top;\n",
       "    }\n",
       "\n",
       "    .dataframe thead th {\n",
       "        text-align: right;\n",
       "    }\n",
       "</style>\n",
       "<table border=\"1\" class=\"dataframe\">\n",
       "  <thead>\n",
       "    <tr style=\"text-align: right;\">\n",
       "      <th></th>\n",
       "      <th>person_id</th>\n",
       "      <th>similarity</th>\n",
       "    </tr>\n",
       "  </thead>\n",
       "  <tbody>\n",
       "    <tr>\n",
       "      <th>766</th>\n",
       "      <td>768</td>\n",
       "      <td>1.0</td>\n",
       "    </tr>\n",
       "    <tr>\n",
       "      <th>0</th>\n",
       "      <td>2</td>\n",
       "      <td>1.0</td>\n",
       "    </tr>\n",
       "    <tr>\n",
       "      <th>1</th>\n",
       "      <td>3</td>\n",
       "      <td>1.0</td>\n",
       "    </tr>\n",
       "    <tr>\n",
       "      <th>765</th>\n",
       "      <td>767</td>\n",
       "      <td>1.0</td>\n",
       "    </tr>\n",
       "    <tr>\n",
       "      <th>763</th>\n",
       "      <td>765</td>\n",
       "      <td>1.0</td>\n",
       "    </tr>\n",
       "  </tbody>\n",
       "</table>\n",
       "</div>"
      ],
      "text/plain": [
       "    person_id  similarity\n",
       "766       768         1.0\n",
       "0           2         1.0\n",
       "1           3         1.0\n",
       "765       767         1.0\n",
       "763       765         1.0"
      ]
     },
     "execution_count": 19,
     "metadata": {},
     "output_type": "execute_result"
    }
   ],
   "source": [
    "top_k = 5\n",
    "top_k_df = similar_df.sort_values(by=\"similarity\", ascending=False).head(top_k)\n",
    "top_k_df"
   ]
  },
  {
   "cell_type": "code",
   "execution_count": null,
   "id": "50bcf4d8-ff60-48d7-b256-b39e61240588",
   "metadata": {},
   "outputs": [],
   "source": []
  },
  {
   "cell_type": "code",
   "execution_count": 20,
   "id": "f6512306-4cfc-4571-b34d-1de8f8d57e72",
   "metadata": {},
   "outputs": [],
   "source": [
    "# Initialize dictionary to store count of each combination of insulin level and diabetes outcome\n",
    "insulin_diagnosis_count = {}\n",
    "\n",
    "# Iterate through each person in top-k\n",
    "for other_person_id in similar_df[\"person_id\"]:\n",
    "    other_person_info = insulin_person_map[other_person_id]\n",
    "    \n",
    "    # Access insulin level and diabetes outcome for other person\n",
    "    insulin_level = other_person_info[\"insulin_level\"]\n",
    "    diabetes_outcome = other_person_info[\"diabetes_outcome\"]\n",
    "    \n",
    "    # Combine insulin level and diabetes outcome into a tuple\n",
    "    insulin_diagnosis = (insulin_level, diabetes_outcome)\n",
    "    \n",
    "    # Update dictionary count for the combination\n",
    "    insulin_diagnosis_count[insulin_diagnosis] = insulin_diagnosis_count.get(insulin_diagnosis, 0) + 1\n",
    "\n"
   ]
  },
  {
   "cell_type": "code",
   "execution_count": 21,
   "id": "af23e7ef-e54b-4e6f-ac22-0f85e7728dbb",
   "metadata": {},
   "outputs": [],
   "source": [
    "from collections import Counter"
   ]
  },
  {
   "cell_type": "code",
   "execution_count": 22,
   "id": "928bf2c2-8bd2-4a63-b8fd-750751aa98cf",
   "metadata": {},
   "outputs": [
    {
     "data": {
      "text/plain": [
       "'0'"
      ]
     },
     "execution_count": 22,
     "metadata": {},
     "output_type": "execute_result"
    }
   ],
   "source": [
    "predicted_insulin_diagnosis = Counter(insulin_diagnosis_count).most_common(1)[0][0]\n",
    "\n",
    "# Take predicted diagnosis from the tuple (insulin_level, diabetes_outcome)\n",
    "predicted_diagnosis = predicted_insulin_diagnosis[1]\n",
    "predicted_diagnosis"
   ]
  },
  {
   "cell_type": "code",
   "execution_count": 23,
   "id": "1f6380ad-6562-4b33-b1d2-86582e9b9f01",
   "metadata": {},
   "outputs": [
    {
     "data": {
      "text/plain": [
       "False"
      ]
     },
     "execution_count": 23,
     "metadata": {},
     "output_type": "execute_result"
    }
   ],
   "source": [
    "# Check if predicted diagnosis exists in test person's diabetes outcomes\n",
    "predicted_diagnosis_in_test = predicted_diagnosis in test_person_object[\"diabetes_outcome\"]\n",
    "predicted_diagnosis_in_test"
   ]
  },
  {
   "cell_type": "code",
   "execution_count": 24,
   "id": "6ddd77cd-a430-4d03-93b5-78e293dece86",
   "metadata": {},
   "outputs": [
    {
     "data": {
      "text/plain": [
       "236"
      ]
     },
     "execution_count": 24,
     "metadata": {},
     "output_type": "execute_result"
    }
   ],
   "source": [
    "from collections import Counter\n",
    "\n",
    "# Initialize Counter to store count of each insulin level/diabetes outcome combination\n",
    "insulin_diagnosis_count = Counter()\n",
    "\n",
    "# Iterate through each person in insulin_person_map\n",
    "for person_info in insulin_person_map.values():\n",
    "    insulin_level = person_info[\"insulin_level\"]\n",
    "    diabetes_outcome = person_info[\"diabetes_outcome\"]\n",
    "    \n",
    "    # Combine insulin level and diabetes outcome into tuple\n",
    "    insulin_diagnosis = (insulin_level, diabetes_outcome)\n",
    "    \n",
    "    # Increment the count for the combination in Counter\n",
    "    insulin_diagnosis_count[insulin_diagnosis] += 1\n",
    "\n",
    "# Calculate count of the most common combination\n",
    "most_common_count = insulin_diagnosis_count.most_common(1)[0][1]\n",
    "\n",
    "most_common_count"
   ]
  },
  {
   "cell_type": "code",
   "execution_count": null,
   "id": "c1423e60-d5a0-40a9-a76f-9a25a22ebd6d",
   "metadata": {},
   "outputs": [],
   "source": []
  },
  {
   "cell_type": "code",
   "execution_count": 25,
   "id": "3995fe66-f63a-4482-acda-338d541859a9",
   "metadata": {},
   "outputs": [
    {
     "data": {
      "text/plain": [
       "{('0', '0')}"
      ]
     },
     "execution_count": 25,
     "metadata": {},
     "output_type": "execute_result"
    }
   ],
   "source": [
    "predicted_diagnosis_set = {g for g,i in insulin_diagnosis_count.items() if i == most_common_count}\n",
    "predicted_diagnosis_set"
   ]
  },
  {
   "cell_type": "code",
   "execution_count": 26,
   "id": "352dfadd-1441-4e0f-b51b-98f8af7a76e3",
   "metadata": {},
   "outputs": [
    {
     "data": {
      "text/plain": [
       "False"
      ]
     },
     "execution_count": 26,
     "metadata": {},
     "output_type": "execute_result"
    }
   ],
   "source": [
    "# Compare length of intersection and union of two sets: \n",
    "# predicted_diagnosies_set and diagnosis outcomes for test person\n",
    "\n",
    "len(predicted_diagnosis_set.intersection(test_person_object[\"diabetes_outcome\"])) == len(predicted_diagnosis_set.union(test_person_object[\"diabetes_outcome\"]))"
   ]
  },
  {
   "cell_type": "code",
   "execution_count": 27,
   "id": "6e6674ad-4842-42e6-9f63-8cad95f8010b",
   "metadata": {},
   "outputs": [
    {
     "data": {
      "text/plain": [
       "0.0"
      ]
     },
     "execution_count": 27,
     "metadata": {},
     "output_type": "execute_result"
    }
   ],
   "source": [
    "len(predicted_diagnosis_set.intersection(test_person_object[\"diabetes_outcome\"])) / len(predicted_diagnosis_set.union(test_person_object[\"diabetes_outcome\"]))"
   ]
  },
  {
   "cell_type": "code",
   "execution_count": 28,
   "id": "11222f10-87db-4291-8855-eb7796782eef",
   "metadata": {},
   "outputs": [
    {
     "data": {
      "text/plain": [
       "{'insulin_level': '0', 'diabetes_outcome': '1'}"
      ]
     },
     "execution_count": 28,
     "metadata": {},
     "output_type": "execute_result"
    }
   ],
   "source": [
    "insulin_person_map[\"3\"]"
   ]
  },
  {
   "cell_type": "code",
   "execution_count": 29,
   "id": "fcdc6b5f-6e9e-4807-8054-f180d90ab405",
   "metadata": {},
   "outputs": [
    {
     "data": {
      "text/plain": [
       "{'insulin_level': '0', 'diabetes_outcome': '1'}"
      ]
     },
     "execution_count": 29,
     "metadata": {},
     "output_type": "execute_result"
    }
   ],
   "source": [
    "test_person_object"
   ]
  },
  {
   "cell_type": "markdown",
   "id": "092ee9e0-76d0-47f6-ab54-5a345d283f13",
   "metadata": {},
   "source": [
    "## Predict Diabetes Outcome"
   ]
  },
  {
   "cell_type": "code",
   "execution_count": 30,
   "id": "fa7fddfb-1804-4a18-a3eb-e838b39711c8",
   "metadata": {},
   "outputs": [],
   "source": [
    "sim_outcomes = []\n",
    "\n",
    "# Iterate through each person in top-k \n",
    "for other_person_id in top_k_df[\"person_id\"]:\n",
    "    # Take corresponding person object from insulin_person_map\n",
    "    other_person_object = insulin_person_map[other_person_id]\n",
    "    \n",
    "    # Append the diabetes outcome of other person to sim_outcomes\n",
    "    sim_outcomes.append(other_person_object[\"diabetes_outcome\"])\n"
   ]
  },
  {
   "cell_type": "code",
   "execution_count": 31,
   "id": "3048cfc8-92b4-4835-9cb0-b51c5afb0b3b",
   "metadata": {},
   "outputs": [
    {
     "data": {
      "text/html": [
       "<div>\n",
       "<style scoped>\n",
       "    .dataframe tbody tr th:only-of-type {\n",
       "        vertical-align: middle;\n",
       "    }\n",
       "\n",
       "    .dataframe tbody tr th {\n",
       "        vertical-align: top;\n",
       "    }\n",
       "\n",
       "    .dataframe thead th {\n",
       "        text-align: right;\n",
       "    }\n",
       "</style>\n",
       "<table border=\"1\" class=\"dataframe\">\n",
       "  <thead>\n",
       "    <tr style=\"text-align: right;\">\n",
       "      <th></th>\n",
       "      <th>person_id</th>\n",
       "      <th>similarity</th>\n",
       "    </tr>\n",
       "  </thead>\n",
       "  <tbody>\n",
       "    <tr>\n",
       "      <th>766</th>\n",
       "      <td>768</td>\n",
       "      <td>1.0</td>\n",
       "    </tr>\n",
       "    <tr>\n",
       "      <th>0</th>\n",
       "      <td>2</td>\n",
       "      <td>1.0</td>\n",
       "    </tr>\n",
       "    <tr>\n",
       "      <th>1</th>\n",
       "      <td>3</td>\n",
       "      <td>1.0</td>\n",
       "    </tr>\n",
       "    <tr>\n",
       "      <th>765</th>\n",
       "      <td>767</td>\n",
       "      <td>1.0</td>\n",
       "    </tr>\n",
       "    <tr>\n",
       "      <th>763</th>\n",
       "      <td>765</td>\n",
       "      <td>1.0</td>\n",
       "    </tr>\n",
       "  </tbody>\n",
       "</table>\n",
       "</div>"
      ],
      "text/plain": [
       "    person_id  similarity\n",
       "766       768         1.0\n",
       "0           2         1.0\n",
       "1           3         1.0\n",
       "765       767         1.0\n",
       "763       765         1.0"
      ]
     },
     "execution_count": 31,
     "metadata": {},
     "output_type": "execute_result"
    }
   ],
   "source": [
    "top_k_df"
   ]
  },
  {
   "cell_type": "code",
   "execution_count": 32,
   "id": "ac186f64-67f5-44db-be97-e0343e7897af",
   "metadata": {},
   "outputs": [
    {
     "data": {
      "text/plain": [
       "['0', '0', '1', '1', '0']"
      ]
     },
     "execution_count": 32,
     "metadata": {},
     "output_type": "execute_result"
    }
   ],
   "source": [
    "sim_outcomes"
   ]
  },
  {
   "cell_type": "code",
   "execution_count": 33,
   "id": "8a4d0d4b-4cd8-499b-ab57-11c46a183845",
   "metadata": {},
   "outputs": [
    {
     "name": "stdout",
     "output_type": "stream",
     "text": [
      "Counter({'0': 3, '1': 2})\n"
     ]
    }
   ],
   "source": [
    "from collections import Counter\n",
    "\n",
    "# Count occurrences of each diabetes outcome\n",
    "outcome_counts = Counter(sim_outcomes)\n",
    "\n",
    "# Print counts\n",
    "print(outcome_counts)"
   ]
  },
  {
   "cell_type": "code",
   "execution_count": 34,
   "id": "14ce8454-d35b-4442-9ec6-b8b0c5062c4e",
   "metadata": {},
   "outputs": [
    {
     "data": {
      "text/plain": [
       "0.4"
      ]
     },
     "execution_count": 34,
     "metadata": {},
     "output_type": "execute_result"
    }
   ],
   "source": [
    "# Convert strings to integers\n",
    "sim_outcomes_numeric = [int(outcome) for outcome in sim_outcomes]\n",
    "\n",
    "# Calculate the mean\n",
    "mean_outcome = np.mean(sim_outcomes_numeric)\n",
    "mean_outcome"
   ]
  },
  {
   "cell_type": "code",
   "execution_count": 35,
   "id": "b17f36d0-c440-4d6d-9619-8b1b2de35062",
   "metadata": {},
   "outputs": [
    {
     "name": "stdout",
     "output_type": "stream",
     "text": [
      "1\n",
      "Mean outcome: 0.0\n",
      "Squared error: 1.0\n",
      "2\n",
      "Mean outcome: 0.0\n",
      "Squared error: 1.0\n",
      "3\n",
      "Mean outcome: 0.3333333333333333\n",
      "Squared error: 0.44444444444444453\n",
      "4\n",
      "Mean outcome: 0.5\n",
      "Squared error: 0.25\n",
      "5\n",
      "Mean outcome: 0.4\n",
      "Squared error: 0.36\n",
      "6\n",
      "Mean outcome: 0.3333333333333333\n",
      "Squared error: 0.44444444444444453\n",
      "7\n",
      "Mean outcome: 0.2857142857142857\n",
      "Squared error: 0.5102040816326531\n",
      "8\n",
      "Mean outcome: 0.25\n",
      "Squared error: 0.5625\n",
      "9\n",
      "Mean outcome: 0.3333333333333333\n",
      "Squared error: 0.44444444444444453\n"
     ]
    }
   ],
   "source": [
    "scores = []\n",
    "for k in range(1,10):\n",
    "    print(k)\n",
    "    this_top_k_df = similar_df.sort_values(by=\"similarity\", ascending=False).head(k)\n",
    "    \n",
    "    sim_outcomes = []\n",
    "    for other_person_id in this_top_k_df[\"person_id\"]:\n",
    "        other_person_object = insulin_person_map[other_person_id]\n",
    "\n",
    "        # convert to integer and append to sim_outcomes\n",
    "        sim_outcomes.append(int(other_person_object[\"diabetes_outcome\"]))\n",
    "\n",
    "    # Calculate mean outcome & squared error\n",
    "    mean_outcome = np.mean(sim_outcomes)\n",
    "    squared_error = (mean_outcome - int(test_person_object[\"diabetes_outcome\"])) ** 2\n",
    "\n",
    "    # Print calculated scores\n",
    "    print(\"Mean outcome:\", mean_outcome)\n",
    "    print(\"Squared error:\", squared_error)\n",
    "    \n",
    "    scores.append({\n",
    "        \"k\": k,\n",
    "        \"predicted_outcome\": mean_outcome,\n",
    "        \"se\": squared_error\n",
    "    })"
   ]
  },
  {
   "cell_type": "code",
   "execution_count": 36,
   "id": "52dbe6e9-10be-40c1-a48b-fe36cbd61790",
   "metadata": {},
   "outputs": [
    {
     "data": {
      "text/html": [
       "<div>\n",
       "<style scoped>\n",
       "    .dataframe tbody tr th:only-of-type {\n",
       "        vertical-align: middle;\n",
       "    }\n",
       "\n",
       "    .dataframe tbody tr th {\n",
       "        vertical-align: top;\n",
       "    }\n",
       "\n",
       "    .dataframe thead th {\n",
       "        text-align: right;\n",
       "    }\n",
       "</style>\n",
       "<table border=\"1\" class=\"dataframe\">\n",
       "  <thead>\n",
       "    <tr style=\"text-align: right;\">\n",
       "      <th></th>\n",
       "      <th>k</th>\n",
       "      <th>predicted_outcome</th>\n",
       "      <th>se</th>\n",
       "    </tr>\n",
       "  </thead>\n",
       "  <tbody>\n",
       "    <tr>\n",
       "      <th>0</th>\n",
       "      <td>1</td>\n",
       "      <td>0.000000</td>\n",
       "      <td>1.000000</td>\n",
       "    </tr>\n",
       "    <tr>\n",
       "      <th>1</th>\n",
       "      <td>2</td>\n",
       "      <td>0.000000</td>\n",
       "      <td>1.000000</td>\n",
       "    </tr>\n",
       "    <tr>\n",
       "      <th>2</th>\n",
       "      <td>3</td>\n",
       "      <td>0.333333</td>\n",
       "      <td>0.444444</td>\n",
       "    </tr>\n",
       "    <tr>\n",
       "      <th>3</th>\n",
       "      <td>4</td>\n",
       "      <td>0.500000</td>\n",
       "      <td>0.250000</td>\n",
       "    </tr>\n",
       "    <tr>\n",
       "      <th>4</th>\n",
       "      <td>5</td>\n",
       "      <td>0.400000</td>\n",
       "      <td>0.360000</td>\n",
       "    </tr>\n",
       "    <tr>\n",
       "      <th>5</th>\n",
       "      <td>6</td>\n",
       "      <td>0.333333</td>\n",
       "      <td>0.444444</td>\n",
       "    </tr>\n",
       "    <tr>\n",
       "      <th>6</th>\n",
       "      <td>7</td>\n",
       "      <td>0.285714</td>\n",
       "      <td>0.510204</td>\n",
       "    </tr>\n",
       "    <tr>\n",
       "      <th>7</th>\n",
       "      <td>8</td>\n",
       "      <td>0.250000</td>\n",
       "      <td>0.562500</td>\n",
       "    </tr>\n",
       "    <tr>\n",
       "      <th>8</th>\n",
       "      <td>9</td>\n",
       "      <td>0.333333</td>\n",
       "      <td>0.444444</td>\n",
       "    </tr>\n",
       "  </tbody>\n",
       "</table>\n",
       "</div>"
      ],
      "text/plain": [
       "   k  predicted_outcome        se\n",
       "0  1           0.000000  1.000000\n",
       "1  2           0.000000  1.000000\n",
       "2  3           0.333333  0.444444\n",
       "3  4           0.500000  0.250000\n",
       "4  5           0.400000  0.360000\n",
       "5  6           0.333333  0.444444\n",
       "6  7           0.285714  0.510204\n",
       "7  8           0.250000  0.562500\n",
       "8  9           0.333333  0.444444"
      ]
     },
     "execution_count": 36,
     "metadata": {},
     "output_type": "execute_result"
    }
   ],
   "source": [
    "pd.DataFrame(scores)"
   ]
  },
  {
   "cell_type": "code",
   "execution_count": 27,
   "id": "42e47f05-a2b1-4b8c-a672-7458c213df3b",
   "metadata": {},
   "outputs": [
    {
     "data": {
      "text/plain": [
       "<Axes: xlabel='k'>"
      ]
     },
     "execution_count": 27,
     "metadata": {},
     "output_type": "execute_result"
    },
    {
     "data": {
      "image/png": "[encoded data removed]",
      "text/plain": [
       "<Figure size 640x480 with 1 Axes>"
      ]
     },
     "metadata": {},
     "output_type": "display_data"
    }
   ],
   "source": [
    "pd.DataFrame(scores).plot(x=\"k\", y=\"se\")"
   ]
  },
  {
   "cell_type": "markdown",
   "id": "b028d0fc-9e15-4c5b-ad37-08c3a2ae673c",
   "metadata": {},
   "source": [
    "## Average Error Across k"
   ]
  },
  {
   "cell_type": "code",
   "execution_count": 37,
   "id": "dc5f488c-daff-4a5a-93df-42e2a9d82b2d",
   "metadata": {},
   "outputs": [],
   "source": [
    "import random"
   ]
  },
  {
   "cell_type": "code",
   "execution_count": 38,
   "id": "90c9f482-d832-4c2a-acd0-60fef17ccf3e",
   "metadata": {},
   "outputs": [],
   "source": [
    "all_person_ids = list(insulin_person_map.keys())\n",
    "random.shuffle(all_person_ids)\n",
    "\n",
    "test_person_ids = all_person_ids[614:]\n",
    "other_person_ids = all_person_ids[:614]"
   ]
  },
  {
   "cell_type": "code",
   "execution_count": 97,
   "id": "552df5f4-54a1-4cdb-80c3-3f9e901f1117",
   "metadata": {},
   "outputs": [
    {
     "name": "stdout",
     "output_type": "stream",
     "text": [
      "Prediction is incorrect!\n"
     ]
    }
   ],
   "source": [
    "global_person_map = {}\n",
    "\n",
    "test_person_id = '10'\n",
    "\n",
    "# Check if test person ID is present in insulin_person_map\n",
    "if test_person_id in insulin_person_map:\n",
    "    # Take info about the test person from insulin_person_map\n",
    "    test_person_object = insulin_person_map[test_person_id]\n",
    "\n",
    "    scores = []\n",
    "\n",
    "    # Iterate over k values\n",
    "    for k in range(1, 20):\n",
    "        # Sort similar_df by similarity and select top k rows\n",
    "        this_top_k_df = similar_df.sort_values(by=\"similarity\", ascending=False).head(k)\n",
    "\n",
    "        # Initialize list to store outcomes for each similar person\n",
    "        sim_outcomes = []\n",
    "\n",
    "        # Iterate over person_ids in top k\n",
    "        for other_person_id in this_top_k_df[\"person_id\"]:\n",
    "            other_person_object = insulin_person_map[other_person_id]\n",
    "\n",
    "            # Append numeric outcome to sim_outcomes\n",
    "            sim_outcomes.append(float(other_person_object[\"diabetes_outcome\"]))  # Convert to float\n",
    "\n",
    "        # Calculate mean of sim_outcomes\n",
    "        mean_outcome = np.mean(sim_outcomes)\n",
    "\n",
    "        # Convert target_person_object[\"diabetes_outcome\"] to float\n",
    "        target_diabetes_outcome = float(test_person_object[\"diabetes_outcome\"])\n",
    "\n",
    "        # Determine predicted outcome based on rounded mean\n",
    "        predicted_diabetes = round(mean_outcome)\n",
    "\n",
    "        # Calculate squared error\n",
    "        squared_error = (mean_outcome - target_diabetes_outcome) ** 2\n",
    "\n",
    "        # Append k, predicted_outcome, and squared error to scores list\n",
    "        scores.append({\n",
    "            \"k\": k,\n",
    "            \"predicted_outcome\": predicted_diabetes,\n",
    "            \"se\": squared_error\n",
    "        })\n",
    "\n",
    "    # Convert scores list to DataFrame and store in global_person_map\n",
    "    global_person_map[test_person_id] = pd.DataFrame(scores)\n",
    "\n",
    "    # Get predicted outcome for test person from global_person_map\n",
    "    predicted_df = global_person_map[test_person_id]\n",
    "\n",
    "    # Get the predicted outcome for  test person\n",
    "    predicted_outcome = predicted_df[predicted_df[\"k\"] == 8][\"predicted_outcome\"].values[0]  # Replace k with the desired value of k\n",
    "\n",
    "    # Get the actual outcome for the test person from the insulin_person_map\n",
    "    actual_outcome = float(test_person_object.get(\"diabetes_outcome\", -1))\n",
    "\n",
    "    if actual_outcome != -1:\n",
    "        # Compare the predicted outcome with the actual outcome\n",
    "        if predicted_outcome == actual_outcome:\n",
    "            print(\"Prediction is correct!\")\n",
    "        else:\n",
    "            print(\"Prediction is incorrect!\")\n",
    "    else:\n",
    "        print(\"Actual outcome not available for the test person.\")\n",
    "else:\n",
    "    print(\"Test person not found in insulin_person_map.\")\n",
    "\n",
    "\n"
   ]
  },
  {
   "cell_type": "code",
   "execution_count": 64,
   "id": "b0184beb-3ebb-49ea-ac8c-a03baea3ced2",
   "metadata": {},
   "outputs": [
    {
     "data": {
      "text/plain": [
       "{'2':      k  predicted_outcome        se\n",
       " 0    1                  0  0.000000\n",
       " 1    2                  0  0.000000\n",
       " 2    3                  0  0.111111\n",
       " 3    4                  0  0.250000\n",
       " 4    5                  0  0.160000\n",
       " 5    6                  0  0.111111\n",
       " 6    7                  0  0.081633\n",
       " 7    8                  0  0.062500\n",
       " 8    9                  0  0.111111\n",
       " 9   10                  0  0.160000\n",
       " 10  11                  0  0.132231\n",
       " 11  12                  0  0.173611\n",
       " 12  13                  0  0.147929\n",
       " 13  14                  0  0.183673\n",
       " 14  15                  0  0.160000\n",
       " 15  16                  0  0.191406\n",
       " 16  17                  0  0.221453\n",
       " 17  18                  0  0.250000\n",
       " 18  19                  0  0.224377}"
      ]
     },
     "execution_count": 64,
     "metadata": {},
     "output_type": "execute_result"
    }
   ],
   "source": [
    "global_person_map"
   ]
  },
  {
   "cell_type": "code",
   "execution_count": 65,
   "id": "a6f28998-2dc6-4bf2-8af4-d97d60ce8c0b",
   "metadata": {},
   "outputs": [],
   "source": [
    "k_se_scores = {}\n",
    "for k_df in global_person_map.values():\n",
    "    for _,row in k_df.iterrows():\n",
    "        k_se_scores[row[\"k\"]] = k_se_scores.get(row[\"k\"], []) + [row[\"se\"]]"
   ]
  },
  {
   "cell_type": "code",
   "execution_count": 71,
   "id": "b0efc366-98f2-450b-a594-3138b388e93c",
   "metadata": {},
   "outputs": [
    {
     "data": {
      "text/plain": [
       "0.25"
      ]
     },
     "execution_count": 71,
     "metadata": {},
     "output_type": "execute_result"
    }
   ],
   "source": [
    "np.mean(k_se_scores[4])"
   ]
  },
  {
   "cell_type": "code",
   "execution_count": 67,
   "id": "30cff332-cc82-46fc-8b33-5e079d539f50",
   "metadata": {},
   "outputs": [
    {
     "data": {
      "text/plain": [
       "0.1111111111111111"
      ]
     },
     "execution_count": 67,
     "metadata": {},
     "output_type": "execute_result"
    }
   ],
   "source": [
    "np.mean(k_se_scores[3])"
   ]
  },
  {
   "cell_type": "code",
   "execution_count": 68,
   "id": "13c58aea-06e1-4835-a233-9ba383808621",
   "metadata": {},
   "outputs": [
    {
     "data": {
      "text/plain": [
       "0.16000000000000003"
      ]
     },
     "execution_count": 68,
     "metadata": {},
     "output_type": "execute_result"
    }
   ],
   "source": [
    "np.mean(k_se_scores[5])"
   ]
  },
  {
   "cell_type": "code",
   "execution_count": 69,
   "id": "4ce37e63-4e40-487a-b8a9-62d15a146a26",
   "metadata": {},
   "outputs": [
    {
     "data": {
      "text/plain": [
       "0.1111111111111111"
      ]
     },
     "execution_count": 69,
     "metadata": {},
     "output_type": "execute_result"
    }
   ],
   "source": [
    "np.mean(k_se_scores[6])"
   ]
  },
  {
   "cell_type": "code",
   "execution_count": 72,
   "id": "7dcf5f33-6893-487e-8e64-7b2944094521",
   "metadata": {},
   "outputs": [
    {
     "data": {
      "text/plain": [
       "0.08163265306122448"
      ]
     },
     "execution_count": 72,
     "metadata": {},
     "output_type": "execute_result"
    }
   ],
   "source": [
    "np.mean(k_se_scores[7])"
   ]
  },
  {
   "cell_type": "code",
   "execution_count": 73,
   "id": "32871299-424a-4bd8-ad85-367c2b901e61",
   "metadata": {},
   "outputs": [
    {
     "data": {
      "text/plain": [
       "0.0625"
      ]
     },
     "execution_count": 73,
     "metadata": {},
     "output_type": "execute_result"
    }
   ],
   "source": [
    "np.mean(k_se_scores[8])"
   ]
  },
  {
   "cell_type": "code",
   "execution_count": 74,
   "id": "80cefd63-d922-4a1e-b979-38a1b2c58c1a",
   "metadata": {},
   "outputs": [
    {
     "data": {
      "text/plain": [
       "0.1111111111111111"
      ]
     },
     "execution_count": 74,
     "metadata": {},
     "output_type": "execute_result"
    }
   ],
   "source": [
    "np.mean(k_se_scores[9])"
   ]
  },
  {
   "cell_type": "code",
   "execution_count": 75,
   "id": "9b391ed6-136e-4106-91c2-ce05309ba2f9",
   "metadata": {},
   "outputs": [
    {
     "data": {
      "text/plain": [
       "0.16000000000000003"
      ]
     },
     "execution_count": 75,
     "metadata": {},
     "output_type": "execute_result"
    }
   ],
   "source": [
    "np.mean(k_se_scores[10])"
   ]
  },
  {
   "cell_type": "code",
   "execution_count": 76,
   "id": "aac8a935-f6f2-457c-be0e-8940b1917368",
   "metadata": {},
   "outputs": [
    {
     "data": {
      "text/plain": [
       "<Axes: xlabel='0'>"
      ]
     },
     "execution_count": 76,
     "metadata": {},
     "output_type": "execute_result"
    },
    {
     "data": {
      "image/png": "[encoded data removed]",
      "text/plain": [
       "<Figure size 640x480 with 1 Axes>"
      ]
     },
     "metadata": {},
     "output_type": "display_data"
    }
   ],
   "source": [
    "pd.DataFrame([(k,np.mean(v)) for k,v in k_se_scores.items()]).plot(x=0, y=1)"
   ]
  },
  {
   "cell_type": "code",
   "execution_count": 98,
   "id": "1baa94ed-56aa-46e3-aefa-dd863ab80d93",
   "metadata": {},
   "outputs": [
    {
     "name": "stdout",
     "output_type": "stream",
     "text": [
      "Instances of insulin level 0 for individuals with diabetes outcome 0: 236\n",
      "Instances of insulin level 0 for individuals with diabetes outcome 1: 138\n"
     ]
    }
   ],
   "source": [
    "# Initialize counts\n",
    "count_diabetes_0 = 0\n",
    "count_diabetes_1 = 0\n",
    "\n",
    "# Iterate through insulin_person_map\n",
    "for index, person_info in insulin_person_map.items():\n",
    "    insulin_level = person_info[\"insulin_level\"]\n",
    "    diabetes_outcome = person_info[\"diabetes_outcome\"]\n",
    "\n",
    "    # Check if insulin level is 0 and diabetes outcome is 0 or 1\n",
    "    if insulin_level == '0':\n",
    "        if diabetes_outcome == '0':\n",
    "            count_diabetes_0 += 1\n",
    "        elif diabetes_outcome == '1':\n",
    "            count_diabetes_1 += 1\n",
    "\n",
    "print(\"Instances of insulin level 0 for individuals with diabetes outcome 0:\", count_diabetes_0)\n",
    "print(\"Instances of insulin level 0 for individuals with diabetes outcome 1:\", count_diabetes_1)\n"
   ]
  }
 ],
 "metadata": {
  "kernelspec": {
   "display_name": "Python 3 (ipykernel)",
   "language": "python",
   "name": "python3"
  },
  "language_info": {
   "codemirror_mode": {
    "name": "ipython",
    "version": 3
   },
   "file_extension": ".py",
   "mimetype": "text/x-python",
   "name": "python",
   "nbconvert_exporter": "python",
   "pygments_lexer": "ipython3",
   "version": "3.11.5"
  }
 },
 "nbformat": 4,
 "nbformat_minor": 5
}
