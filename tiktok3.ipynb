{
 "cells": [
  {
   "cell_type": "markdown",
   "metadata": {},
   "source": [
    "assignment3"
   ]
  },
  {
   "cell_type": "code",
   "execution_count": 16,
   "metadata": {},
   "outputs": [],
   "source": [
    "%matplotlib inline"
   ]
  },
  {
   "cell_type": "code",
   "execution_count": 17,
   "metadata": {},
   "outputs": [],
   "source": [
    "import csv\n",
    "import random\n",
    "\n",
    "import numpy as np\n",
    "import pandas as pd\n",
    "import networkx as nx"
   ]
  },
  {
   "cell_type": "markdown",
   "metadata": {},
   "source": [
    "## Create dataframe"
   ]
  },
  {
   "cell_type": "code",
   "execution_count": 18,
   "metadata": {},
   "outputs": [
    {
     "data": {
      "text/html": [
       "<div>\n",
       "<style scoped>\n",
       "    .dataframe tbody tr th:only-of-type {\n",
       "        vertical-align: middle;\n",
       "    }\n",
       "\n",
       "    .dataframe tbody tr th {\n",
       "        vertical-align: top;\n",
       "    }\n",
       "\n",
       "    .dataframe thead th {\n",
       "        text-align: right;\n",
       "    }\n",
       "</style>\n",
       "<table border=\"1\" class=\"dataframe\">\n",
       "  <thead>\n",
       "    <tr style=\"text-align: right;\">\n",
       "      <th></th>\n",
       "      <th>followers</th>\n",
       "      <th>following</th>\n",
       "      <th>likes</th>\n",
       "      <th>videos_count</th>\n",
       "    </tr>\n",
       "    <tr>\n",
       "      <th>account_id</th>\n",
       "      <th></th>\n",
       "      <th></th>\n",
       "      <th></th>\n",
       "      <th></th>\n",
       "    </tr>\n",
       "  </thead>\n",
       "  <tbody>\n",
       "    <tr>\n",
       "      <th>a.r.m.y664</th>\n",
       "      <td>1755</td>\n",
       "      <td>1443</td>\n",
       "      <td>1586</td>\n",
       "      <td>20</td>\n",
       "    </tr>\n",
       "    <tr>\n",
       "      <th>a2_9r</th>\n",
       "      <td>354</td>\n",
       "      <td>1422</td>\n",
       "      <td>3843</td>\n",
       "      <td>225</td>\n",
       "    </tr>\n",
       "    <tr>\n",
       "      <th>ti.po.check</th>\n",
       "      <td>1960</td>\n",
       "      <td>243</td>\n",
       "      <td>24000</td>\n",
       "      <td>228</td>\n",
       "    </tr>\n",
       "    <tr>\n",
       "      <th>nutrifersanort</th>\n",
       "      <td>43</td>\n",
       "      <td>41</td>\n",
       "      <td>100</td>\n",
       "      <td>5</td>\n",
       "    </tr>\n",
       "    <tr>\n",
       "      <th>bhgdee</th>\n",
       "      <td>276</td>\n",
       "      <td>2262</td>\n",
       "      <td>126</td>\n",
       "      <td>4</td>\n",
       "    </tr>\n",
       "    <tr>\n",
       "      <th>...</th>\n",
       "      <td>...</td>\n",
       "      <td>...</td>\n",
       "      <td>...</td>\n",
       "      <td>...</td>\n",
       "    </tr>\n",
       "    <tr>\n",
       "      <th>lpk.jp</th>\n",
       "      <td>956</td>\n",
       "      <td>294</td>\n",
       "      <td>4028</td>\n",
       "      <td>110</td>\n",
       "    </tr>\n",
       "    <tr>\n",
       "      <th>loup_32</th>\n",
       "      <td>55</td>\n",
       "      <td>226</td>\n",
       "      <td>101</td>\n",
       "      <td>4</td>\n",
       "    </tr>\n",
       "    <tr>\n",
       "      <th>djbigkev</th>\n",
       "      <td>12100</td>\n",
       "      <td>256</td>\n",
       "      <td>102400</td>\n",
       "      <td>89</td>\n",
       "    </tr>\n",
       "    <tr>\n",
       "      <th>fakhrulnaim13</th>\n",
       "      <td>2763</td>\n",
       "      <td>8059</td>\n",
       "      <td>18300</td>\n",
       "      <td>216</td>\n",
       "    </tr>\n",
       "    <tr>\n",
       "      <th>cleanwithriaa</th>\n",
       "      <td>5972</td>\n",
       "      <td>930</td>\n",
       "      <td>182100</td>\n",
       "      <td>332</td>\n",
       "    </tr>\n",
       "  </tbody>\n",
       "</table>\n",
       "<p>1000 rows × 4 columns</p>\n",
       "</div>"
      ],
      "text/plain": [
       "                followers  following   likes  videos_count\n",
       "account_id                                                \n",
       "a.r.m.y664           1755       1443    1586            20\n",
       "a2_9r                 354       1422    3843           225\n",
       "ti.po.check          1960        243   24000           228\n",
       "nutrifersanort         43         41     100             5\n",
       "bhgdee                276       2262     126             4\n",
       "...                   ...        ...     ...           ...\n",
       "lpk.jp                956        294    4028           110\n",
       "loup_32                55        226     101             4\n",
       "djbigkev            12100        256  102400            89\n",
       "fakhrulnaim13        2763       8059   18300           216\n",
       "cleanwithriaa        5972        930  182100           332\n",
       "\n",
       "[1000 rows x 4 columns]"
      ]
     },
     "execution_count": 18,
     "metadata": {},
     "output_type": "execute_result"
    }
   ],
   "source": [
    "import pandas as pd\n",
    "\n",
    "# Read the CSV file into a DataFrame\n",
    "csv_file_path = 'tiktok.csv'  # Replace 'your_file.csv' with the actual file path\n",
    "df = pd.read_csv(csv_file_path)\n",
    "\n",
    "# Specify the columns you want to keep\n",
    "desired_columns = ['account_id', 'followers', 'following', 'likes', 'videos_count']  # Replace with your actual column names\n",
    "\n",
    "# Create a new DataFrame with only the desired columns\n",
    "df_selected_columns = df[desired_columns]\n",
    "\n",
    "df_selected_columns.set_index('account_id', inplace=True)\n",
    "\n",
    "# Print or use the new DataFrame as needed\n",
    "df_selected_columns"
   ]
  },
  {
   "cell_type": "markdown",
   "metadata": {},
   "source": [
    "## Apply L1 Normalization"
   ]
  },
  {
   "cell_type": "code",
   "execution_count": 19,
   "metadata": {},
   "outputs": [
    {
     "name": "stdout",
     "output_type": "stream",
     "text": [
      "                   following     likes  videos_count\n",
      "account_id                                          \n",
      "a.r.m.y664          0.473270  0.520171      0.006560\n",
      "a2_9r               0.259016  0.700000      0.040984\n",
      "ti.po.check         0.009930  0.980753      0.009317\n",
      "nutrifersanort      0.280822  0.684932      0.034247\n",
      "bhgdee              0.945652  0.052676      0.001672\n",
      "preyah_             0.000192  0.999577      0.000231\n",
      "anastasiaashley     0.000030  0.999894      0.000076\n",
      "_sanek__56rus       0.629598  0.354455      0.015947\n",
      "_rinm               0.745902  0.213115      0.040984\n",
      "_k_1_ji_ji_e_ip__   0.846715  0.131387      0.021898\n"
     ]
    },
    {
     "name": "stderr",
     "output_type": "stream",
     "text": [
      "/var/folders/m_/k8tcd9ts10v8f132ksgxjks00000gp/T/ipykernel_47695/1125138806.py:3: SettingWithCopyWarning: \n",
      "A value is trying to be set on a copy of a slice from a DataFrame.\n",
      "Try using .loc[row_indexer,col_indexer] = value instead\n",
      "\n",
      "See the caveats in the documentation: https://pandas.pydata.org/pandas-docs/stable/user_guide/indexing.html#returning-a-view-versus-a-copy\n",
      "  df_selected_columns[columns_to_normalize] = df_selected_columns[columns_to_normalize].apply(pd.to_numeric, errors='coerce')\n",
      "/var/folders/m_/k8tcd9ts10v8f132ksgxjks00000gp/T/ipykernel_47695/1125138806.py:5: SettingWithCopyWarning: \n",
      "A value is trying to be set on a copy of a slice from a DataFrame.\n",
      "Try using .loc[row_indexer,col_indexer] = value instead\n",
      "\n",
      "See the caveats in the documentation: https://pandas.pydata.org/pandas-docs/stable/user_guide/indexing.html#returning-a-view-versus-a-copy\n",
      "  df_selected_columns[columns_to_normalize] = df_selected_columns[columns_to_normalize].fillna(df_selected_columns[columns_to_normalize].mean())\n"
     ]
    }
   ],
   "source": [
    "columns_to_normalize = df_selected_columns.columns[1:]\n",
    "\n",
    "df_selected_columns[columns_to_normalize] = df_selected_columns[columns_to_normalize].apply(pd.to_numeric, errors='coerce')\n",
    "\n",
    "df_selected_columns[columns_to_normalize] = df_selected_columns[columns_to_normalize].fillna(df_selected_columns[columns_to_normalize].mean())\n",
    "\n",
    "df_norm = df_selected_columns[columns_to_normalize].divide(df_selected_columns[columns_to_normalize].abs().sum(axis=1), axis=0)\n",
    "\n",
    "print(df_norm.head(10))\n"
   ]
  },
  {
   "cell_type": "code",
   "execution_count": 20,
   "metadata": {},
   "outputs": [
    {
     "data": {
      "text/plain": [
       "account_id\n",
       "a.r.m.y664            1.0\n",
       "a2_9r                 1.0\n",
       "ti.po.check           1.0\n",
       "nutrifersanort        1.0\n",
       "bhgdee                1.0\n",
       "preyah_               1.0\n",
       "anastasiaashley       1.0\n",
       "_sanek__56rus         1.0\n",
       "_rinm                 1.0\n",
       "_k_1_ji_ji_e_ip__     1.0\n",
       "xrb_010               1.0\n",
       "soyon_on_fire         1.0\n",
       "laurenwolfe           1.0\n",
       "mybeautifulfantasy    1.0\n",
       "itshoneydone          1.0\n",
       "curlyheadkay3         1.0\n",
       "ryanmarkparsons       1.0\n",
       "a3536363773           1.0\n",
       "a.oakley03            1.0\n",
       "_lipsticklinz         1.0\n",
       "dtype: float64"
      ]
     },
     "execution_count": 20,
     "metadata": {},
     "output_type": "execute_result"
    }
   ],
   "source": [
    "# check that all add up to 1, meaning normalization is correct\n",
    "\n",
    "df_norm.sum(axis=1).head(20)"
   ]
  },
  {
   "cell_type": "code",
   "execution_count": 21,
   "metadata": {},
   "outputs": [
    {
     "name": "stdout",
     "output_type": "stream",
     "text": [
      "User with the highest 'following': nbeil10\n",
      "Data for the user:\n",
      "following       0.991434\n",
      "likes           0.007654\n",
      "videos_count    0.000911\n",
      "Name: nbeil10, dtype: float64\n"
     ]
    }
   ],
   "source": [
    "# find user with highest 'following'\n",
    "\n",
    "user_with_highest_following = df_norm['following'].idxmax()\n",
    "\n",
    "# Get the corresponding row for the user\n",
    "user_data_highest_following = df_norm.loc[user_with_highest_following]\n",
    "\n",
    "# Display the user ID and corresponding data\n",
    "print(\"User with the highest 'following':\", user_with_highest_following)\n",
    "print(\"Data for the user:\")\n",
    "print(user_data_highest_following)"
   ]
  },
  {
   "cell_type": "code",
   "execution_count": 22,
   "metadata": {},
   "outputs": [
    {
     "name": "stdout",
     "output_type": "stream",
     "text": [
      "User with the highest 'likes': diana_aster\n",
      "Data for the user:\n",
      "following       3.458205e-08\n",
      "likes           9.999975e-01\n",
      "videos_count    2.440916e-06\n",
      "Name: diana_aster, dtype: float64\n"
     ]
    }
   ],
   "source": [
    "# find user wtih highest 'likes'\n",
    "\n",
    "user_with_highest_likes = df_norm['likes'].idxmax()\n",
    "\n",
    "# Get the corresponding row for the user\n",
    "user_data_highest_likes = df_norm.loc[user_with_highest_likes]\n",
    "\n",
    "# Display the user ID and corresponding data\n",
    "print(\"User with the highest 'likes':\", user_with_highest_likes)\n",
    "print(\"Data for the user:\")\n",
    "print(user_data_highest_likes)"
   ]
  },
  {
   "cell_type": "code",
   "execution_count": 23,
   "metadata": {},
   "outputs": [
    {
     "name": "stdout",
     "output_type": "stream",
     "text": [
      "User with the highest 'videos_count': __a716\n",
      "Data for the user:\n",
      "following       0.111111\n",
      "likes           0.666667\n",
      "videos_count    0.222222\n",
      "Name: __a716, dtype: float64\n"
     ]
    }
   ],
   "source": [
    "# find user with highest videos_count\n",
    "\n",
    "user_with_highest_videos_count = df_norm['videos_count'].idxmax()\n",
    "\n",
    "# Get the corresponding row for the user\n",
    "user_data_highest_videos_count = df_norm.loc[user_with_highest_videos_count]\n",
    "\n",
    "# Display the user ID and corresponding data\n",
    "print(\"User with the highest 'videos_count':\", user_with_highest_videos_count)\n",
    "print(\"Data for the user:\")\n",
    "print(user_data_highest_videos_count)"
   ]
  },
  {
   "cell_type": "code",
   "execution_count": 24,
   "metadata": {},
   "outputs": [],
   "source": [
    "from scipy.sparse import lil_matrix\n",
    "import scipy.spatial.distance\n"
   ]
  },
  {
   "cell_type": "code",
   "execution_count": 25,
   "metadata": {},
   "outputs": [
    {
     "name": "stdout",
     "output_type": "stream",
     "text": [
      "nbeil10 0.0 1.0\n",
      "user401012101830068 1.3338668400919573e-06 1.0\n",
      "eminence713 8.992726383882932e-06 1.0\n",
      "oi_ilk 3.5288340739847435e-05 1.0\n",
      "bvmonmi 3.757949773008917e-05 1.0\n",
      "yumi_blox_ 8.637881351369892e-05 1.0\n",
      "dkr3d05 8.804738184198246e-05 1.0\n",
      "gneaxb_788 0.00010610679912581578 1.0\n",
      "dgueixasantoslima 0.0001791596023803521 1.0\n",
      "dycrprfw88c4 0.0002074564394984879 1.0\n"
     ]
    }
   ],
   "source": [
    "# create user_following_map\n",
    "user_following_map = dict(zip(df_norm.index, df_norm['following']))\n",
    "\n",
    "#user with highest 'following'\n",
    "target_user_id1 = 'nbeil10'\n",
    "\n",
    "if target_user_id1 in user_following_map:\n",
    "    target_user_following = user_following_map[target_user_id1]\n",
    "\n",
    "# find cosine distances\n",
    "    distances = scipy.spatial.distance.cdist(df_norm, [df_norm.loc[target_user_id1].values], metric=\"cosine\").flatten()\n",
    "\n",
    "    query_distances = list(zip(df_norm.index, distances))\n",
    "\n",
    "    for similar_user_id, similar_distance in sorted(query_distances, key=lambda x: x[1], reverse=False)[:10]:\n",
    "        print(similar_user_id, similar_distance, df_norm.loc[similar_user_id].sum())\n",
    "    \n",
    "else:\n",
    "    print(f\"User '{target_user_id1} not found in the user_following_map.\")\n"
   ]
  },
  {
   "cell_type": "code",
   "execution_count": 26,
   "metadata": {},
   "outputs": [
    {
     "name": "stdout",
     "output_type": "stream",
     "text": [
      "                     following     likes  videos_count\n",
      "account_id                                            \n",
      "nbeil10               0.991434  0.007654      0.000911\n",
      "user401012101830068   0.989423  0.009180      0.001397\n",
      "eminence713           0.987057  0.011801      0.001142\n",
      "oi_ilk                0.983865  0.015840      0.000295\n",
      "bvmonmi               0.983607  0.016101      0.000293\n",
      "yumi_blox_            0.978790  0.020424      0.000786\n",
      "dkr3d05               0.976744  0.020349      0.002907\n",
      "gneaxb_788            0.976871  0.021769      0.001361\n",
      "dgueixasantoslima     0.971894  0.025857      0.002248\n",
      "dycrprfw88c4          0.971588  0.027298      0.001114\n"
     ]
    }
   ],
   "source": [
    "# create a dataframe with most similar users to look at stats\n",
    "\n",
    "# List of user IDs with high similarity\n",
    "similar_users = [similar_user_id for similar_user_id, _ in sorted(query_distances, key=lambda x: x[1], reverse=False)[:10]]\n",
    "\n",
    "# Create a DataFrame with data for the similar users\n",
    "similar_users_df = df_norm.loc[similar_users]\n",
    "\n",
    "# Print the DataFrame\n",
    "print(similar_users_df)"
   ]
  },
  {
   "cell_type": "code",
   "execution_count": 27,
   "metadata": {},
   "outputs": [
    {
     "name": "stdout",
     "output_type": "stream",
     "text": [
      "diana_aster 1.1102230246251565e-16 1.0\n",
      "itsmenicksmithy2 3.430589146091734e-14 1.0\n",
      "lionsgate 2.5990321006474915e-13 1.0\n",
      "katjakrasavice 2.950972799453666e-13 1.0\n",
      "biteswithlily 8.386846772623358e-12 1.0\n",
      "solsenpai 1.1958656287447411e-11 1.0\n",
      "duki 1.390176862514636e-11 1.0\n",
      "rzdarmawangsa 1.90528703924997e-11 1.0\n",
      "lyllistapper 2.459732417747773e-11 0.9999999999999999\n",
      "aru.rinh 3.825539884871887e-11 1.0\n"
     ]
    }
   ],
   "source": [
    "# create user_likes_map\n",
    "user_likes_map = dict(zip(df_norm.index, df_norm['likes']))\n",
    "\n",
    "#user with highest 'likes'\n",
    "target_user_id2 = 'diana_aster'\n",
    "\n",
    "\n",
    "if target_user_id2 in user_likes_map:\n",
    "    target_user_likes = user_likes_map[target_user_id2]\n",
    "\n",
    "# find cosine distances\n",
    "    distances = scipy.spatial.distance.cdist(df_norm, [df_norm.loc[target_user_id2].values], metric=\"cosine\").flatten()\n",
    "\n",
    "    query_distances = list(zip(df_norm.index, distances))\n",
    "\n",
    "    for similar_user_id, similar_distance in sorted(query_distances, key=lambda x: x[1], reverse=False)[:10]:\n",
    "        print(similar_user_id, similar_distance, df_norm.loc[similar_user_id].sum())\n",
    "    \n",
    "else:\n",
    "    print(f\"User '{target_user_id2} not found in the user_following_map.\")"
   ]
  },
  {
   "cell_type": "code",
   "execution_count": 28,
   "metadata": {},
   "outputs": [
    {
     "name": "stdout",
     "output_type": "stream",
     "text": [
      "                     following     likes  videos_count\n",
      "account_id                                            \n",
      "diana_aster       3.458205e-08  0.999998  2.440916e-06\n",
      "itsmenicksmithy2  5.442950e-08  0.999997  2.701788e-06\n",
      "lionsgate         3.728057e-07  0.999997  3.077475e-06\n",
      "katjakrasavice    3.241481e-08  0.999997  3.209066e-06\n",
      "biteswithlily     3.836287e-06  0.999992  3.964163e-06\n",
      "solsenpai         1.905389e-06  0.999991  6.959398e-06\n",
      "duki              4.999972e-06  0.999994  6.666629e-07\n",
      "rzdarmawangsa     4.950452e-08  0.999991  8.613787e-06\n",
      "lyllistapper      6.942679e-06  0.999989  3.654042e-06\n",
      "aru.rinh          2.499967e-06  0.999987  1.083319e-05\n"
     ]
    }
   ],
   "source": [
    "# create a dataframe with most similar users to look at stats\n",
    "\n",
    "# List of user IDs with high similarity\n",
    "similar_users2 = [similar_user_id for similar_user_id, _ in sorted(query_distances, key=lambda x: x[1], reverse=False)[:10]]\n",
    "\n",
    "# Create a DataFrame \n",
    "similar_users_df2 = df_norm.loc[similar_users2]\n",
    "\n",
    "# Print the DataFrame\n",
    "print(similar_users_df2)"
   ]
  },
  {
   "cell_type": "code",
   "execution_count": 31,
   "metadata": {},
   "outputs": [
    {
     "name": "stdout",
     "output_type": "stream",
     "text": [
      "      timestamp   account_id         nickname                    biography  \\\n",
      "733  2023-07-30  diana_aster  💗 DIANA ASTER 💗  ЖДУ ТЕБЯ В ТЕЛЕГЕ 👇🏼💝\\n\\n ⠀   \n",
      "\n",
      "     awg_engagement_rate  comment_engagement_rate  like_engagement_rate  \\\n",
      "733             0.010912                 0.000047              0.010866   \n",
      "\n",
      "                bio_link  is_verified  followers  following      likes  \\\n",
      "733  https://t.me/dom2di         True   10500000         12  347000000   \n",
      "\n",
      "     videos_count  create_time                   id  \\\n",
      "733           847          NaN  6575837798929235974   \n",
      "\n",
      "                                            top_videos  \\\n",
      "733  https://www.tiktok.com/@diana_aster/video/7260...   \n",
      "\n",
      "                                     url  \\\n",
      "733  https://www.tiktok.com/@diana_aster   \n",
      "\n",
      "                                       profile_pic_url  \n",
      "733  https://p16-sign-sg.tiktokcdn.com/aweme/720x72...  \n"
     ]
    }
   ],
   "source": [
    "\n",
    "\n",
    "# Specify  user \n",
    "target_user = 'diana_aster'  # Replace with the actual account_id\n",
    "\n",
    "# Filter the original DataFrame \n",
    "user_row = df[df['account_id'] == target_user]\n",
    "\n",
    "# Display the user's original data\n",
    "print(user_row)"
   ]
  },
  {
   "cell_type": "code",
   "execution_count": 31,
   "metadata": {},
   "outputs": [
    {
     "name": "stdout",
     "output_type": "stream",
     "text": [
      "__a716 2.220446049250313e-16 0.9999999999999999\n",
      "xehgmkas 0.012537393380061657 1.0\n",
      "gol.fm 0.014083000786515476 1.0\n",
      "audi_uk 0.0168242058491731 1.0\n",
      "fownfown4 0.02119911240162209 1.0\n",
      "jordanannpetersen 0.022878474715016583 1.0\n",
      "dh.02xspam 0.02395913583103193 1.0\n",
      "xx.h.me0 0.02400636802620426 0.9999999999999999\n",
      "lpqzxc 0.02496011621818639 1.0\n",
      "gmcrath30 0.02498866132220634 1.0\n"
     ]
    }
   ],
   "source": [
    "# create user_videos_count_map\n",
    "user_videos_count_map = dict(zip(df_norm.index, df_norm['videos_count']))\n",
    "\n",
    "# user with highest 'videos count' \n",
    "target_user_id3 = '__a716'\n",
    "\n",
    "\n",
    "if target_user_id3 in user_videos_count_map:\n",
    "    target_user_videos_count = user_videos_count_map[target_user_id3]\n",
    "\n",
    "# find cosine distances\n",
    "    distances = scipy.spatial.distance.cdist(df_norm, [df_norm.loc[target_user_id3].values], metric=\"cosine\").flatten()\n",
    "\n",
    "    query_distances = list(zip(df_norm.index, distances))\n",
    "\n",
    "    for similar_user_id, similar_distance in sorted(query_distances, key=lambda x: x[1], reverse=False)[:10]:\n",
    "        print(similar_user_id, similar_distance, df_norm.loc[similar_user_id].sum())\n",
    "    \n",
    "else:\n",
    "    print(f\"User '{target_user_id3} not found in the user_following_map.\")\n"
   ]
  },
  {
   "cell_type": "code",
   "execution_count": null,
   "metadata": {},
   "outputs": [],
   "source": []
  },
  {
   "cell_type": "code",
   "execution_count": 32,
   "metadata": {},
   "outputs": [
    {
     "name": "stdout",
     "output_type": "stream",
     "text": [
      "                   following     likes  videos_count\n",
      "account_id                                          \n",
      "__a716              0.111111  0.666667      0.222222\n",
      "xehgmkas            0.078431  0.784314      0.137255\n",
      "gol.fm              0.049505  0.801980      0.148515\n",
      "audi_uk             0.075188  0.804511      0.120301\n",
      "fownfown4           0.155556  0.755556      0.088889\n",
      "jordanannpetersen   0.186945  0.722119      0.090936\n",
      "dh.02xspam          0.131579  0.789474      0.078947\n",
      "xx.h.me0            0.094000  0.820000      0.086000\n",
      "lpqzxc              0.192513  0.721925      0.085561\n",
      "gmcrath30           0.167967  0.754550      0.077483\n"
     ]
    }
   ],
   "source": [
    "# create a dataframe with most similar users to look at stats\n",
    "\n",
    "# List of user IDs with high similarity\n",
    "similar_users3 = [similar_user_id for similar_user_id, _ in sorted(query_distances, key=lambda x: x[1], reverse=False)[:10]]\n",
    "\n",
    "# Create a DataFrame with data for the similar users\n",
    "similar_users_df3 = df_norm.loc[similar_users3]\n",
    "\n",
    "# Print the DataFrame\n",
    "print(similar_users_df3)"
   ]
  },
  {
   "cell_type": "code",
   "execution_count": 32,
   "metadata": {},
   "outputs": [
    {
     "name": "stdout",
     "output_type": "stream",
     "text": [
      "      timestamp account_id nickname biography  awg_engagement_rate  \\\n",
      "264  2023-07-27     __a716   __a716     nyeks                0.875   \n",
      "\n",
      "     comment_engagement_rate  like_engagement_rate bio_link  is_verified  \\\n",
      "264                    0.125                  0.75      NaN        False   \n",
      "\n",
      "     followers  following  likes  videos_count  create_time  \\\n",
      "264          4          1      6             2          NaN   \n",
      "\n",
      "                      id                                         top_videos  \\\n",
      "264  6944276174970553345  https://www.tiktok.com/@__a716/video/696658635...   \n",
      "\n",
      "                                url  \\\n",
      "264  https://www.tiktok.com/@__a716   \n",
      "\n",
      "                                       profile_pic_url  \n",
      "264  https://p16-sign-sg.tiktokcdn.com/aweme/720x72...  \n"
     ]
    }
   ],
   "source": [
    "\n",
    "\n",
    "# Specify user \n",
    "target_user1 = '__a716' \n",
    "\n",
    "# Filter the original DataFrame\n",
    "user_row = df[df['account_id'] == target_user1]\n",
    "\n",
    "# Display the user's original data\n",
    "print(user_row)"
   ]
  },
  {
   "cell_type": "code",
   "execution_count": 33,
   "metadata": {},
   "outputs": [
    {
     "name": "stdout",
     "output_type": "stream",
     "text": [
      "      timestamp account_id            nickname  \\\n",
      "285  2023-07-25   xehgmkas  иди к своей цели)☆   \n",
      "\n",
      "                                             biography  awg_engagement_rate  \\\n",
      "285  https://t.me/XasenGFd ссылка на тг заходи и де...             3.142857   \n",
      "\n",
      "     comment_engagement_rate  like_engagement_rate bio_link  is_verified  \\\n",
      "285                 0.285714              2.857143      NaN        False   \n",
      "\n",
      "     followers  following  likes  videos_count  create_time  \\\n",
      "285          2          4     40             7          NaN   \n",
      "\n",
      "                      id                                         top_videos  \\\n",
      "285  7091548516405576705  https://www.tiktok.com/@xehgmkas/video/7096169...   \n",
      "\n",
      "                                  url  \\\n",
      "285  https://www.tiktok.com/@xehgmkas   \n",
      "\n",
      "                                       profile_pic_url  \n",
      "285  https://p16-sign-sg.tiktokcdn.com/aweme/720x72...  \n"
     ]
    }
   ],
   "source": [
    "# Specify user \n",
    "target_user2 = 'xehgmkas' \n",
    "\n",
    "# Filter the original DataFrame \n",
    "user_row = df[df['account_id'] == target_user2]\n",
    "\n",
    "# Display the user's original data\n",
    "print(user_row)"
   ]
  }
 ],
 "metadata": {
  "kernelspec": {
   "display_name": "Python 3",
   "language": "python",
   "name": "python3"
  },
  "language_info": {
   "codemirror_mode": {
    "name": "ipython",
    "version": 3
   },
   "file_extension": ".py",
   "mimetype": "text/x-python",
   "name": "python",
   "nbconvert_exporter": "python",
   "pygments_lexer": "ipython3",
   "version": "3.11.5"
  }
 },
 "nbformat": 4,
 "nbformat_minor": 2
}
